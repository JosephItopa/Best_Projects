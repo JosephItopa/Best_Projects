{
  "nbformat": 4,
  "nbformat_minor": 0,
  "metadata": {
    "colab": {
      "name": "modelling-cifar10-dataset-using-cnn.ipynb",
      "provenance": []
    },
    "kernelspec": {
      "name": "python3",
      "display_name": "Python 3"
    },
    "language_info": {
      "name": "python"
    },
    "accelerator": "GPU"
  },
  "cells": [
    {
      "cell_type": "code",
      "metadata": {
        "id": "CRJSDir_aV4d"
      },
      "source": [
        "from keras.datasets import cifar10\n",
        "import matplotlib.pyplot as plt"
      ],
      "execution_count": 2,
      "outputs": []
    },
    {
      "cell_type": "code",
      "metadata": {
        "colab": {
          "base_uri": "https://localhost:8080/"
        },
        "id": "obIZVHWR0xG_",
        "outputId": "975b8735-8ebd-4fc3-e819-945223b688db"
      },
      "source": [
        "(X_train, y_train), (X_test, y_test) = cifar10.load_data() "
      ],
      "execution_count": 3,
      "outputs": [
        {
          "output_type": "stream",
          "text": [
            "Downloading data from https://www.cs.toronto.edu/~kriz/cifar-10-python.tar.gz\n",
            "170500096/170498071 [==============================] - 2s 0us/step\n"
          ],
          "name": "stdout"
        }
      ]
    },
    {
      "cell_type": "code",
      "metadata": {
        "colab": {
          "base_uri": "https://localhost:8080/"
        },
        "id": "ER71OaMLABc5",
        "outputId": "65155611-8226-42c0-9be4-f4b6e59268e7"
      },
      "source": [
        "# shape of the X_test\n",
        "X_test.shape"
      ],
      "execution_count": 4,
      "outputs": [
        {
          "output_type": "execute_result",
          "data": {
            "text/plain": [
              "(10000, 32, 32, 3)"
            ]
          },
          "metadata": {
            "tags": []
          },
          "execution_count": 4
        }
      ]
    },
    {
      "cell_type": "code",
      "metadata": {
        "colab": {
          "base_uri": "https://localhost:8080/"
        },
        "id": "hX2fJuItBWmc",
        "outputId": "4b992892-a4b3-4a30-cc12-0eec2fe6e03d"
      },
      "source": [
        "# shape of the X_train\n",
        "X_train.shape"
      ],
      "execution_count": 5,
      "outputs": [
        {
          "output_type": "execute_result",
          "data": {
            "text/plain": [
              "(50000, 32, 32, 3)"
            ]
          },
          "metadata": {
            "tags": []
          },
          "execution_count": 5
        }
      ]
    },
    {
      "cell_type": "code",
      "metadata": {
        "colab": {
          "base_uri": "https://localhost:8080/"
        },
        "id": "zXFzOuXFXfSu",
        "outputId": "b9e033ce-0352-4f08-cd89-6be3fb1427a0"
      },
      "source": [
        "# shape of the y_train\n",
        "y_train.shape"
      ],
      "execution_count": 6,
      "outputs": [
        {
          "output_type": "execute_result",
          "data": {
            "text/plain": [
              "(50000, 1)"
            ]
          },
          "metadata": {
            "tags": []
          },
          "execution_count": 6
        }
      ]
    },
    {
      "cell_type": "code",
      "metadata": {
        "colab": {
          "base_uri": "https://localhost:8080/",
          "height": 284
        },
        "id": "CJLVChaC_jYl",
        "outputId": "e48c6652-902f-4e4e-dbc6-1f547b7b8748"
      },
      "source": [
        "# display one of the images\n",
        "plt.imshow(X_train[6])"
      ],
      "execution_count": 7,
      "outputs": [
        {
          "output_type": "execute_result",
          "data": {
            "text/plain": [
              "<matplotlib.image.AxesImage at 0x7f320085e8d0>"
            ]
          },
          "metadata": {
            "tags": []
          },
          "execution_count": 7
        },
        {
          "output_type": "display_data",
          "data": {
            "image/png": "[encoded data removed]",
            "text/plain": [
              "<Figure size 432x288 with 1 Axes>"
            ]
          },
          "metadata": {
            "tags": [],
            "needs_background": "light"
          }
        }
      ]
    },
    {
      "cell_type": "code",
      "metadata": {
        "id": "D7cS5HdCBrUr"
      },
      "source": [
        "# Redefine datatype and rescale, the train and test dataset\n",
        "X_train = X_train.astype('float32')\n",
        "X_test = X_test.astype('float32')\n",
        "X_train /= 255.0\n",
        "X_test /= 255.0"
      ],
      "execution_count": 8,
      "outputs": []
    },
    {
      "cell_type": "code",
      "metadata": {
        "id": "tTTwZAfUD_Oa"
      },
      "source": [
        "# load categorization dataset\n",
        "from keras.utils.np_utils import to_categorical"
      ],
      "execution_count": 9,
      "outputs": []
    },
    {
      "cell_type": "code",
      "metadata": {
        "id": "Sb_x3lv4EAqN"
      },
      "source": [
        "# Convert the y_train and y_test to categorical features\n",
        "y_train_cat = to_categorical(y_train)\n",
        "y_test_cat = to_categorical(y_test)"
      ],
      "execution_count": 10,
      "outputs": []
    },
    {
      "cell_type": "code",
      "metadata": {
        "colab": {
          "base_uri": "https://localhost:8080/"
        },
        "id": "Sx-XmLJYEELh",
        "outputId": "64ede3d2-7d02-4c48-de5a-f202f14c597d"
      },
      "source": [
        "# print the shape of y_train\n",
        "y_train_cat.shape"
      ],
      "execution_count": 11,
      "outputs": [
        {
          "output_type": "execute_result",
          "data": {
            "text/plain": [
              "(50000, 10)"
            ]
          },
          "metadata": {
            "tags": []
          },
          "execution_count": 11
        }
      ]
    },
    {
      "cell_type": "code",
      "metadata": {
        "colab": {
          "base_uri": "https://localhost:8080/"
        },
        "id": "LuWi5iRQEK5B",
        "outputId": "28c4bdba-0589-4b58-850c-1d5f2caf7a9f"
      },
      "source": [
        "# print the shape of y_test\n",
        "y_test_cat.shape"
      ],
      "execution_count": 12,
      "outputs": [
        {
          "output_type": "execute_result",
          "data": {
            "text/plain": [
              "(10000, 10)"
            ]
          },
          "metadata": {
            "tags": []
          },
          "execution_count": 12
        }
      ]
    },
    {
      "cell_type": "code",
      "metadata": {
        "colab": {
          "base_uri": "https://localhost:8080/"
        },
        "id": "YHqwyICPEPxh",
        "outputId": "03cd4208-0f01-49d6-f03b-592631f40aa4"
      },
      "source": [
        "# print the value X_train\n",
        "X_train[0]"
      ],
      "execution_count": 13,
      "outputs": [
        {
          "output_type": "execute_result",
          "data": {
            "text/plain": [
              "array([[[0.23137255, 0.24313726, 0.24705882],\n",
              "        [0.16862746, 0.18039216, 0.1764706 ],\n",
              "        [0.19607843, 0.1882353 , 0.16862746],\n",
              "        ...,\n",
              "        [0.61960787, 0.5176471 , 0.42352942],\n",
              "        [0.59607846, 0.49019608, 0.4       ],\n",
              "        [0.5803922 , 0.4862745 , 0.40392157]],\n",
              "\n",
              "       [[0.0627451 , 0.07843138, 0.07843138],\n",
              "        [0.        , 0.        , 0.        ],\n",
              "        [0.07058824, 0.03137255, 0.        ],\n",
              "        ...,\n",
              "        [0.48235294, 0.34509805, 0.21568628],\n",
              "        [0.46666667, 0.3254902 , 0.19607843],\n",
              "        [0.47843137, 0.34117648, 0.22352941]],\n",
              "\n",
              "       [[0.09803922, 0.09411765, 0.08235294],\n",
              "        [0.0627451 , 0.02745098, 0.        ],\n",
              "        [0.19215687, 0.10588235, 0.03137255],\n",
              "        ...,\n",
              "        [0.4627451 , 0.32941177, 0.19607843],\n",
              "        [0.47058824, 0.32941177, 0.19607843],\n",
              "        [0.42745098, 0.28627452, 0.16470589]],\n",
              "\n",
              "       ...,\n",
              "\n",
              "       [[0.8156863 , 0.6666667 , 0.3764706 ],\n",
              "        [0.7882353 , 0.6       , 0.13333334],\n",
              "        [0.7764706 , 0.6313726 , 0.10196079],\n",
              "        ...,\n",
              "        [0.627451  , 0.52156866, 0.27450982],\n",
              "        [0.21960784, 0.12156863, 0.02745098],\n",
              "        [0.20784314, 0.13333334, 0.07843138]],\n",
              "\n",
              "       [[0.7058824 , 0.54509807, 0.3764706 ],\n",
              "        [0.6784314 , 0.48235294, 0.16470589],\n",
              "        [0.7294118 , 0.5647059 , 0.11764706],\n",
              "        ...,\n",
              "        [0.72156864, 0.5803922 , 0.36862746],\n",
              "        [0.38039216, 0.24313726, 0.13333334],\n",
              "        [0.3254902 , 0.20784314, 0.13333334]],\n",
              "\n",
              "       [[0.69411767, 0.5647059 , 0.45490196],\n",
              "        [0.65882355, 0.5058824 , 0.36862746],\n",
              "        [0.7019608 , 0.5568628 , 0.34117648],\n",
              "        ...,\n",
              "        [0.84705883, 0.72156864, 0.54901963],\n",
              "        [0.5921569 , 0.4627451 , 0.32941177],\n",
              "        [0.48235294, 0.36078432, 0.28235295]]], dtype=float32)"
            ]
          },
          "metadata": {
            "tags": []
          },
          "execution_count": 13
        }
      ]
    },
    {
      "cell_type": "code",
      "metadata": {
        "id": "u3vi-EdDBs7s"
      },
      "source": [
        "# Load libraries for deep learning modelling\n",
        "from keras.models import Sequential\n",
        "from keras.layers import Flatten, Activation\n",
        "from keras.layers import MaxPool2D, AvgPool2D, Conv2D\n",
        "from keras.layers import Dense\n",
        "import keras.backend as K"
      ],
      "execution_count": 14,
      "outputs": []
    },
    {
      "cell_type": "code",
      "metadata": {
        "id": "mbw21kXNCJij"
      },
      "source": [
        "# clear session\n",
        "K.clear_session()\n",
        "# define model architecture\n",
        "model = Sequential()\n",
        "model.add(Conv2D(32, (4, 4), input_shape = (32, 32, 3), ))\n",
        "model.add(Conv2D(64, (4, 4), ))\n",
        "model.add(MaxPool2D(pool_size = (3, 3)))\n",
        "model.add(Conv2D(32, (3, 3), )) \n",
        "model.add(Conv2D(16, (3, 3), )) \n",
        "model.add(MaxPool2D(pool_size = (2, 2)))\n",
        "model.add(Flatten())\n",
        "model.add(Dense(32, activation='relu'))\n",
        "model.add(Dense(10, activation='softmax'))\n",
        "\n",
        "model.compile(loss='categorical_crossentropy',\n",
        "              optimizer='rmsprop',\n",
        "              metrics=['accuracy'])"
      ],
      "execution_count": 15,
      "outputs": []
    },
    {
      "cell_type": "code",
      "metadata": {
        "colab": {
          "base_uri": "https://localhost:8080/"
        },
        "id": "df_ob2J-EUyM",
        "outputId": "9f7e44c1-b6e2-42a5-9392-48b8310e01b7"
      },
      "source": [
        "# print model summary\n",
        "model.summary()"
      ],
      "execution_count": 16,
      "outputs": [
        {
          "output_type": "stream",
          "text": [
            "Model: \"sequential\"\n",
            "_________________________________________________________________\n",
            "Layer (type)                 Output Shape              Param #   \n",
            "=================================================================\n",
            "conv2d (Conv2D)              (None, 29, 29, 32)        1568      \n",
            "_________________________________________________________________\n",
            "conv2d_1 (Conv2D)            (None, 26, 26, 64)        32832     \n",
            "_________________________________________________________________\n",
            "max_pooling2d (MaxPooling2D) (None, 8, 8, 64)          0         \n",
            "_________________________________________________________________\n",
            "conv2d_2 (Conv2D)            (None, 6, 6, 32)          18464     \n",
            "_________________________________________________________________\n",
            "conv2d_3 (Conv2D)            (None, 4, 4, 16)          4624      \n",
            "_________________________________________________________________\n",
            "max_pooling2d_1 (MaxPooling2 (None, 2, 2, 16)          0         \n",
            "_________________________________________________________________\n",
            "flatten (Flatten)            (None, 64)                0         \n",
            "_________________________________________________________________\n",
            "dense (Dense)                (None, 32)                2080      \n",
            "_________________________________________________________________\n",
            "dense_1 (Dense)              (None, 10)                330       \n",
            "=================================================================\n",
            "Total params: 59,898\n",
            "Trainable params: 59,898\n",
            "Non-trainable params: 0\n",
            "_________________________________________________________________\n"
          ],
          "name": "stdout"
        }
      ]
    },
    {
      "cell_type": "code",
      "metadata": {
        "colab": {
          "base_uri": "https://localhost:8080/"
        },
        "id": "k5HVc8DyEatL",
        "outputId": "ed376dca-2654-4006-9c9e-21bbfab96476"
      },
      "source": [
        "# train model\n",
        "model.fit(X_train, y_train_cat, batch_size=64,\n",
        "          epochs=20, verbose=1, validation_split=0.3)"
      ],
      "execution_count": 21,
      "outputs": [
        {
          "output_type": "stream",
          "text": [
            "Epoch 1/20\n",
            "547/547 [==============================] - 4s 8ms/step - loss: 0.6419 - accuracy: 0.7723 - val_loss: 1.4603 - val_accuracy: 0.5981\n",
            "Epoch 2/20\n",
            "547/547 [==============================] - 4s 7ms/step - loss: 0.6390 - accuracy: 0.7725 - val_loss: 1.3570 - val_accuracy: 0.6131\n",
            "Epoch 3/20\n",
            "547/547 [==============================] - 4s 7ms/step - loss: 0.6358 - accuracy: 0.7775 - val_loss: 1.3586 - val_accuracy: 0.6115\n",
            "Epoch 4/20\n",
            "547/547 [==============================] - 4s 7ms/step - loss: 0.6286 - accuracy: 0.7772 - val_loss: 1.3406 - val_accuracy: 0.6154\n",
            "Epoch 5/20\n",
            "547/547 [==============================] - 4s 7ms/step - loss: 0.6248 - accuracy: 0.7785 - val_loss: 1.3758 - val_accuracy: 0.6196\n",
            "Epoch 6/20\n",
            "547/547 [==============================] - 4s 7ms/step - loss: 0.6134 - accuracy: 0.7808 - val_loss: 1.4168 - val_accuracy: 0.6028\n",
            "Epoch 7/20\n",
            "547/547 [==============================] - 4s 7ms/step - loss: 0.6054 - accuracy: 0.7855 - val_loss: 1.4098 - val_accuracy: 0.6050\n",
            "Epoch 8/20\n",
            "547/547 [==============================] - 4s 7ms/step - loss: 0.6033 - accuracy: 0.7842 - val_loss: 1.3986 - val_accuracy: 0.6116\n",
            "Epoch 9/20\n",
            "547/547 [==============================] - 4s 7ms/step - loss: 0.5925 - accuracy: 0.7907 - val_loss: 1.4250 - val_accuracy: 0.6114\n",
            "Epoch 10/20\n",
            "547/547 [==============================] - 4s 7ms/step - loss: 0.5915 - accuracy: 0.7901 - val_loss: 1.3973 - val_accuracy: 0.6209\n",
            "Epoch 11/20\n",
            "547/547 [==============================] - 4s 7ms/step - loss: 0.5822 - accuracy: 0.7946 - val_loss: 1.4447 - val_accuracy: 0.6101\n",
            "Epoch 12/20\n",
            "547/547 [==============================] - 4s 7ms/step - loss: 0.5744 - accuracy: 0.7967 - val_loss: 1.4568 - val_accuracy: 0.6080\n",
            "Epoch 13/20\n",
            "547/547 [==============================] - 4s 7ms/step - loss: 0.5705 - accuracy: 0.7972 - val_loss: 1.4678 - val_accuracy: 0.6089\n",
            "Epoch 14/20\n",
            "547/547 [==============================] - 4s 7ms/step - loss: 0.5619 - accuracy: 0.7997 - val_loss: 1.4655 - val_accuracy: 0.6153\n",
            "Epoch 15/20\n",
            "547/547 [==============================] - 4s 7ms/step - loss: 0.5566 - accuracy: 0.8034 - val_loss: 1.4834 - val_accuracy: 0.6113\n",
            "Epoch 16/20\n",
            "547/547 [==============================] - 4s 7ms/step - loss: 0.5537 - accuracy: 0.8052 - val_loss: 1.5090 - val_accuracy: 0.6095\n",
            "Epoch 17/20\n",
            "547/547 [==============================] - 4s 7ms/step - loss: 0.5427 - accuracy: 0.8094 - val_loss: 1.5259 - val_accuracy: 0.6099\n",
            "Epoch 18/20\n",
            "547/547 [==============================] - 4s 7ms/step - loss: 0.5417 - accuracy: 0.8080 - val_loss: 1.5559 - val_accuracy: 0.6053\n",
            "Epoch 19/20\n",
            "547/547 [==============================] - 4s 7ms/step - loss: 0.5397 - accuracy: 0.8068 - val_loss: 1.5783 - val_accuracy: 0.6062\n",
            "Epoch 20/20\n",
            "547/547 [==============================] - 4s 7ms/step - loss: 0.5273 - accuracy: 0.8127 - val_loss: 1.5092 - val_accuracy: 0.6159\n"
          ],
          "name": "stdout"
        },
        {
          "output_type": "execute_result",
          "data": {
            "text/plain": [
              "<tensorflow.python.keras.callbacks.History at 0x7f31ad5c5710>"
            ]
          },
          "metadata": {
            "tags": []
          },
          "execution_count": 21
        }
      ]
    },
    {
      "cell_type": "code",
      "metadata": {
        "colab": {
          "base_uri": "https://localhost:8080/"
        },
        "id": "YocEM0y0EvSM",
        "outputId": "5428347a-cccc-49f2-f2e9-0aee16e149aa"
      },
      "source": [
        "# evaluate model performance\n",
        "model.evaluate(X_test, y_test_cat)"
      ],
      "execution_count": 22,
      "outputs": [
        {
          "output_type": "stream",
          "text": [
            "313/313 [==============================] - 1s 3ms/step - loss: 1.5116 - accuracy: 0.6134\n"
          ],
          "name": "stdout"
        },
        {
          "output_type": "execute_result",
          "data": {
            "text/plain": [
              "[1.511579155921936, 0.6133999824523926]"
            ]
          },
          "metadata": {
            "tags": []
          },
          "execution_count": 22
        }
      ]
    }
  ]
}