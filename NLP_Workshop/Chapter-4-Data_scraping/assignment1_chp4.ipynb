{
 "cells": [
  {
   "cell_type": "markdown",
   "id": "cf6f5402-8633-4139-be03-31cb258d4343",
   "metadata": {},
   "source": [
    "### Activity 4.01: Extracting Information from an Online HTML Page"
   ]
  },
  {
   "cell_type": "markdown",
   "id": "cd7bed98-f13b-4653-9489-cf1e81883c66",
   "metadata": {},
   "source": [
    "1. Open a Jupyter Notebook.\n",
    "\n",
    "2. Import the requests and BeautifulSoup libraries.\n",
    "\n",
    "3. Fetch the Wikipedia page from https://en.wikipedia.org/wiki/Rabindranath_Tagore using the get method of the requests library.\n",
    "\n",
    "4. Convert the fetched content into HTML format using an HTML parser.\n",
    "\n",
    "5. Print the list of headings in the Works section.\n",
    "\n",
    "6. Print the list of original works written by Tagore in Bengali."
   ]
  },
  {
   "cell_type": "code",
   "execution_count": 4,
   "id": "a1a860b6-3d8d-4f9a-988e-7dd1888b0f46",
   "metadata": {},
   "outputs": [],
   "source": [
    "# number 2: Import the requests and BeautifulSoup libraries\n",
    "import requests\n",
    "from bs4 import BeautifulSoup"
   ]
  },
  {
   "cell_type": "code",
   "execution_count": 17,
   "id": "fa238a32-c405-429c-838c-b513cff3743e",
   "metadata": {},
   "outputs": [],
   "source": [
    "# number 3: Fetch the Wikipedia page\n",
    "r = requests.get('https://en.wikipedia.org/wiki/Rabindranath_Tagore')\n",
    "r.status_code\n",
    "soup = BeautifulSoup(r.text, 'html.parser')"
   ]
  },
  {
   "cell_type": "code",
   "execution_count": 19,
   "id": "7bddfced-138e-4d51-98a5-900800a9270e",
   "metadata": {},
   "outputs": [
    {
     "name": "stdout",
     "output_type": "stream",
     "text": [
      "Early_life:_1861–1878\n",
      "Shelaidaha:_1878–1901\n",
      "Santiniketan:_1901–1932\n",
      "Twilight_years:_1932–1941\n",
      "Drama\n",
      "Short_stories\n"
     ]
    }
   ],
   "source": [
    "# number 4: Convert the fetched content into HTML format using an HTML parser\n",
    "for element in soup.find_all('h3', limit = 6):\n",
    "    spans = element.find('span', attrs = {'class':\"mw-headline\"})\n",
    "    print(spans['id'])"
   ]
  },
  {
   "cell_type": "code",
   "execution_count": 22,
   "id": "8baf26f4-535e-4c6e-a4e6-7b129cf1580f",
   "metadata": {},
   "outputs": [
    {
     "name": "stdout",
     "output_type": "stream",
     "text": [
      "ভানুসিংহ ঠাকুরের পদাবলী\n",
      "Bhānusiṃha Ṭhākurer Paḍāvalī\n",
      "Songs of Bhānusiṃha Ṭhākur\n",
      "1884\n",
      "\n",
      "মানসী\n",
      "Manasi\n",
      "The Ideal One\n",
      "1890\n",
      "\n",
      "সোনার তরী\n",
      "Sonar Tari\n",
      "The Golden Boat\n",
      "1894\n",
      "\n",
      "গীতাঞ্জলি\n",
      "Gitanjali\n",
      "Song Offerings\n",
      "1910\n",
      "\n",
      "গীতিমাল্য\n",
      "Gitimalya\n",
      "Wreath of Songs\n",
      "1914\n",
      "\n",
      "বলাকা\n",
      "Balaka\n",
      "The Flight of Cranes\n",
      "1916\n",
      "\n"
     ]
    }
   ],
   "source": [
    "# number 5: Print the list of headings in the Works section.\n",
    "table = soup.find('table', attrs = {'class' : \"wikitable\"})\n",
    "for row in table.select('tr td'):\n",
    "    print(row.text)"
   ]
  },
  {
   "cell_type": "code",
   "execution_count": 23,
   "id": "db5d3555-6860-43de-a969-9931b06f45b7",
   "metadata": {},
   "outputs": [
    {
     "data": {
      "text/plain": [
       "['^ Gurudev translates as \"divine mentor\", Bishokobi translates as \"poet of the world\" and Kobiguru translates as \"great poet\".[8]',\n",
       " \"^ Tagore was born at No. 6 Dwarkanath Tagore Lane, Jorasanko – the address of the main mansion (the Jorasanko Thakurbari) inhabited by the Jorasanko branch of the Tagore clan, which had earlier suffered an acrimonious split. Jorasanko was located in the Bengali section of Calcutta, near Chitpur Road.[19][20] Dwarkanath Tagore was his paternal grandfather.[21] Debendranath had formulated the Brahmoist philosophies espoused by his friend Ram Mohan Roy, and became focal in Brahmo society after Roy's death.[22][23]\",\n",
       " '^ On the \"idea of the humanity of our God, or the divinity of Man the Eternal\".',\n",
       " '^ Etymology of \"Visva-Bharati\": from the Sanskrit for \"world\" or \"universe\" and the name of a Rigvedic goddess (\"Bharati\") associated with Saraswati, the Hindu patron of learning.[149] \"Visva-Bharati\" also translates as \"India in the World\".',\n",
       " '^ Tagore was no stranger to controversy: his dealings with Indian nationalists Subhas Chandra Bose[6] and Rash Behari Bose,[166] his yen for Soviet Communism,[167][168] and papers confiscated from Indian nationalists in New York allegedly implicating Tagore in a plot to overthrow the Raj via German funds.[169] These destroyed Tagore\\'s image—and book sales—in the United States.[166] His relations with and ambivalent opinion of Mussolini revolted many;[88] close friend Romain Rolland despaired that \"[h]e is abdicating his role as moral guide of the independent spirits of Europe and India\".[170]']"
      ]
     },
     "execution_count": 23,
     "metadata": {},
     "output_type": "execute_result"
    }
   ],
   "source": [
    "# Print the list of original works written by Tagore in Bengali\n",
    "[each.text.strip() for each in soup.find('ol') if each != '\\n']"
   ]
  }
 ],
 "metadata": {
  "kernelspec": {
   "display_name": "Python 3",
   "language": "python",
   "name": "python3"
  },
  "language_info": {
   "codemirror_mode": {
    "name": "ipython",
    "version": 3
   },
   "file_extension": ".py",
   "mimetype": "text/x-python",
   "name": "python",
   "nbconvert_exporter": "python",
   "pygments_lexer": "ipython3",
   "version": "3.8.11"
  }
 },
 "nbformat": 4,
 "nbformat_minor": 5
}
