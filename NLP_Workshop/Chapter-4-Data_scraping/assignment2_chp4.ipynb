{
 "cells": [
  {
   "cell_type": "markdown",
   "id": "06a44e8f-5793-4fda-ac3c-857eed77b466",
   "metadata": {},
   "source": [
    "### Activity 4.02: Extracting and Analyzing Data Using Regular Expressions"
   ]
  },
  {
   "cell_type": "markdown",
   "id": "857dbe80-28d4-4252-9db5-1c023d5699c0",
   "metadata": {},
   "source": [
    "1. Import the necessary libraries and extract data from https://www.packtpub.com/support/faq using the requests library.\n",
    "\n",
    "2. Fetch questions and answers from the data.\n",
    "\n",
    "3. Create a DataFrame consisting of questions and answers.\n",
    "\n",
    "4. Fetch email addresses with the help of regular expressions.\n",
    "\n",
    "5. Fetch the phone numbers, with the help of regular expressions."
   ]
  },
  {
   "cell_type": "code",
   "execution_count": 2,
   "id": "d6221543-a801-4728-9008-3a914265ee1b",
   "metadata": {},
   "outputs": [],
   "source": [
    "# number 1: Import the necessary libraries\n",
    "import re\n",
    "import requests\n",
    "from bs4 import BeautifulSoup"
   ]
  },
  {
   "cell_type": "code",
   "execution_count": 4,
   "id": "2a9acbc4-e657-4c3c-8ba2-91119a515201",
   "metadata": {},
   "outputs": [
    {
     "data": {
      "text/plain": [
       "200"
      ]
     },
     "execution_count": 4,
     "metadata": {},
     "output_type": "execute_result"
    }
   ],
   "source": [
    "# number 1: extract data\n",
    "r = requests.get('https://www.packtpub.com/support/faq')\n",
    "r.status_code"
   ]
  },
  {
   "cell_type": "code",
   "execution_count": 5,
   "id": "2d484938-b666-42f1-be3b-6a1efbd015f5",
   "metadata": {},
   "outputs": [],
   "source": [
    "soup = BeautifulSoup(r.text, 'html.parser')"
   ]
  },
  {
   "cell_type": "code",
   "execution_count": 10,
   "id": "aedd6e53-5d1a-4f42-9367-f89fc4add887",
   "metadata": {},
   "outputs": [
    {
     "name": "stdout",
     "output_type": "stream",
     "text": [
      "('What format are Packt eBooks?', '\\nPackt eBooks can be downloaded as a PDF, EPUB or MOBI file. They can also be viewed online using your subscription.\\n')\n"
     ]
    }
   ],
   "source": [
    "# number 2: Fetch questions and answers from the data.\n",
    "qas = []\n",
    "for each in soup.find_all('div', attrs={\"class\":\"tab\"}):\n",
    "    question = each.find('label')\n",
    "    answer = each.find('div', attrs={\"class\":\"tab-content\"})\n",
    "    qas.append((question.text, answer.text))\n",
    "    \n",
    "print(qas[1])"
   ]
  },
  {
   "cell_type": "code",
   "execution_count": 11,
   "id": "bef08459-b273-42a7-ba4b-f7d28b875080",
   "metadata": {},
   "outputs": [
    {
     "data": {
      "text/html": [
       "<div>\n",
       "<style scoped>\n",
       "    .dataframe tbody tr th:only-of-type {\n",
       "        vertical-align: middle;\n",
       "    }\n",
       "\n",
       "    .dataframe tbody tr th {\n",
       "        vertical-align: top;\n",
       "    }\n",
       "\n",
       "    .dataframe thead th {\n",
       "        text-align: right;\n",
       "    }\n",
       "</style>\n",
       "<table border=\"1\" class=\"dataframe\">\n",
       "  <thead>\n",
       "    <tr style=\"text-align: right;\">\n",
       "      <th></th>\n",
       "      <th>Question</th>\n",
       "      <th>Answer</th>\n",
       "    </tr>\n",
       "  </thead>\n",
       "  <tbody>\n",
       "    <tr>\n",
       "      <th>0</th>\n",
       "      <td>How can I download eBooks?</td>\n",
       "      <td>\\nOnce you complete your eBook purchase, the d...</td>\n",
       "    </tr>\n",
       "    <tr>\n",
       "      <th>1</th>\n",
       "      <td>What format are Packt eBooks?</td>\n",
       "      <td>\\nPackt eBooks can be downloaded as a PDF, EPU...</td>\n",
       "    </tr>\n",
       "    <tr>\n",
       "      <th>2</th>\n",
       "      <td>Can I send an eBook to my Kindle?</td>\n",
       "      <td>\\nYes, if you follow the previous instructions...</td>\n",
       "    </tr>\n",
       "    <tr>\n",
       "      <th>3</th>\n",
       "      <td>How can I download code files for eBooks and V...</td>\n",
       "      <td>\\nThere are a number of simple ways to access ...</td>\n",
       "    </tr>\n",
       "    <tr>\n",
       "      <th>4</th>\n",
       "      <td>How can I download Videos?</td>\n",
       "      <td>\\nOnce you complete your Video purchase, the d...</td>\n",
       "    </tr>\n",
       "  </tbody>\n",
       "</table>\n",
       "</div>"
      ],
      "text/plain": [
       "                                            Question  \\\n",
       "0                         How can I download eBooks?   \n",
       "1                      What format are Packt eBooks?   \n",
       "2                  Can I send an eBook to my Kindle?   \n",
       "3  How can I download code files for eBooks and V...   \n",
       "4                         How can I download Videos?   \n",
       "\n",
       "                                              Answer  \n",
       "0  \\nOnce you complete your eBook purchase, the d...  \n",
       "1  \\nPackt eBooks can be downloaded as a PDF, EPU...  \n",
       "2  \\nYes, if you follow the previous instructions...  \n",
       "3  \\nThere are a number of simple ways to access ...  \n",
       "4  \\nOnce you complete your Video purchase, the d...  "
      ]
     },
     "execution_count": 11,
     "metadata": {},
     "output_type": "execute_result"
    }
   ],
   "source": [
    "# number 3: Create a DataFrame consisting of questions and answers.\n",
    "import pandas as pd\n",
    "pd.DataFrame(qas, columns = ['Question', 'Answer']).head()"
   ]
  },
  {
   "cell_type": "code",
   "execution_count": 14,
   "id": "53d797c6-0786-4c77-91a6-a5bf3ba12d76",
   "metadata": {},
   "outputs": [
    {
     "data": {
      "text/plain": [
       "200"
      ]
     },
     "execution_count": 14,
     "metadata": {},
     "output_type": "execute_result"
    }
   ],
   "source": [
    "# number 4: Fetch email addresses with the help of regular expressions.\n",
    "import re\n",
    "tc_page_r = requests\\\n",
    "                    .get('https://www.packtpub.com/books/info/'\\\n",
    "                         'packt/terms-and-conditions')\n",
    "tc_page_r.status_code"
   ]
  },
  {
   "cell_type": "code",
   "execution_count": 15,
   "id": "980d3fc6-e447-4939-9db9-08ed41012e88",
   "metadata": {},
   "outputs": [
    {
     "data": {
      "text/plain": [
       "{'customercare@packt.com', 'subscription.support@packt.com'}"
      ]
     },
     "execution_count": 15,
     "metadata": {},
     "output_type": "execute_result"
    }
   ],
   "source": [
    "soup2 = BeautifulSoup(tc_page_r.text, 'html.parser')\n",
    "set(re.findall\\\n",
    "    (r\"[A-Za-z0-9._%+-]+@[A-Za-z0-9.-]+\\.[A-Za-z]{2,4}\",\\\n",
    "         soup2.text))"
   ]
  },
  {
   "cell_type": "code",
   "execution_count": 16,
   "id": "3b137e4c-35c6-42d0-aec7-908fedcb862e",
   "metadata": {},
   "outputs": [
    {
     "data": {
      "text/plain": [
       "['+44 (0) 121 265 648', '+44 (0) 121 212 141']"
      ]
     },
     "execution_count": 16,
     "metadata": {},
     "output_type": "execute_result"
    }
   ],
   "source": [
    "# number 5: Fetch the phone numbers, with the help of regular expressions.\n",
    "re.findall(r\"\\+\\d{2}\\s{1}\\(0\\)\\s\\d{3}\\s\\d{3}\\s\\d{3}\",soup2.text)"
   ]
  }
 ],
 "metadata": {
  "kernelspec": {
   "display_name": "Python 3",
   "language": "python",
   "name": "python3"
  },
  "language_info": {
   "codemirror_mode": {
    "name": "ipython",
    "version": 3
   },
   "file_extension": ".py",
   "mimetype": "text/x-python",
   "name": "python",
   "nbconvert_exporter": "python",
   "pygments_lexer": "ipython3",
   "version": "3.8.11"
  }
 },
 "nbformat": 4,
 "nbformat_minor": 5
}
