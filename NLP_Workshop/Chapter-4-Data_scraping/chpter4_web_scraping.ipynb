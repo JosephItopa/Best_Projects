{
 "cells": [
  {
   "cell_type": "code",
   "execution_count": 46,
   "id": "11643cd8-83a1-41b1-ab08-196631527c8e",
   "metadata": {},
   "outputs": [],
   "source": [
    "from bs4 import BeautifulSoup"
   ]
  },
  {
   "cell_type": "code",
   "execution_count": 47,
   "id": "ac86c62c-0910-4b63-aeb0-4b284da5d139",
   "metadata": {},
   "outputs": [],
   "source": [
    "soup = BeautifulSoup(open('sample_doc.html'), \\\n",
    "                     'html.parser')"
   ]
  },
  {
   "cell_type": "code",
   "execution_count": 48,
   "id": "d3b5e712-caaa-47c3-84c1-3194dd35a097",
   "metadata": {},
   "outputs": [
    {
     "data": {
      "text/plain": [
       "'\\n\\n\\n A sample HTML Page \\n\\n\\nI am staying at  Mess on No. 72, Banamali Naskar Lane, Kolkata. \\nSherlock  stays at 221B, Baker Street, London, UK. \\nHamlet said to Horatio,   There are more things in heaven and earth, Horatio,  Than are dreamt of in your philosophy. \\n A table denoting details of students\\n\\n\\nname\\nqualification\\nadditional qualification\\nother qualification\\n\\n\\nGangaram\\nB.Tech\\nNA\\nNA\\n\\n\\nGanga\\nB.A.\\nNA\\nNA\\n\\n\\nRam\\nB.Tech\\nM.Tech\\nNA\\n\\n\\nRamlal\\nB.Music\\nNA\\nDiploma in Music\\n\\n\\n\\n'"
      ]
     },
     "execution_count": 48,
     "metadata": {},
     "output_type": "execute_result"
    }
   ],
   "source": [
    "soup.text"
   ]
  },
  {
   "cell_type": "code",
   "execution_count": 49,
   "id": "4f13c148-b3db-4c64-8e63-d90bcbd5a676",
   "metadata": {},
   "outputs": [
    {
     "data": {
      "text/plain": [
       "['html',\n",
       " '\\n',\n",
       " <html>\n",
       " <head>\n",
       " <title> A sample HTML Page </title>\n",
       " </head>\n",
       " <body>\n",
       " I am staying at <address> Mess on No. 72, Banamali Naskar Lane, Kolkata.</address> <br/>\n",
       " <b>Sherlock </b> stays at <address>221B, Baker Street, London, UK.</address> <br/>\n",
       " <b>Hamlet</b> said to <b>Horatio</b>, <br/> <q> There are more things in heaven and earth, Horatio, <br/> Than are dreamt of in your philosophy. </q>\n",
       " <h1> A table denoting details of students</h1>\n",
       " <table>\n",
       " <tr>\n",
       " <th>name</th>\n",
       " <th>qualification</th>\n",
       " <th>additional qualification</th>\n",
       " <th>other qualification</th>\n",
       " </tr>\n",
       " <tr>\n",
       " <td>Gangaram</td>\n",
       " <td>B.Tech</td>\n",
       " <td>NA</td>\n",
       " <td>NA</td>\n",
       " </tr>\n",
       " <tr>\n",
       " <td>Ganga</td>\n",
       " <td>B.A.</td>\n",
       " <td>NA</td>\n",
       " <td>NA</td>\n",
       " </tr>\n",
       " <tr>\n",
       " <td>Ram</td>\n",
       " <td>B.Tech</td>\n",
       " <td>M.Tech</td>\n",
       " <td>NA</td>\n",
       " </tr>\n",
       " <tr>\n",
       " <td>Ramlal</td>\n",
       " <td>B.Music</td>\n",
       " <td>NA</td>\n",
       " <td>Diploma in Music</td>\n",
       " </tr>\n",
       " </table>\n",
       " </body>\n",
       " </html>]"
      ]
     },
     "execution_count": 49,
     "metadata": {},
     "output_type": "execute_result"
    }
   ],
   "source": [
    "soup.contents"
   ]
  },
  {
   "cell_type": "code",
   "execution_count": 50,
   "id": "a4d9de69-3047-4a36-9d48-880748a350fa",
   "metadata": {},
   "outputs": [
    {
     "data": {
      "text/plain": [
       "<address> Mess on No. 72, Banamali Naskar Lane, Kolkata.</address>"
      ]
     },
     "execution_count": 50,
     "metadata": {},
     "output_type": "execute_result"
    }
   ],
   "source": [
    "soup.find('address')"
   ]
  },
  {
   "cell_type": "code",
   "execution_count": 51,
   "id": "92c01b1d-e124-4408-a3b8-60ae3ca980a6",
   "metadata": {},
   "outputs": [
    {
     "data": {
      "text/plain": [
       "[<address> Mess on No. 72, Banamali Naskar Lane, Kolkata.</address>,\n",
       " <address>221B, Baker Street, London, UK.</address>]"
      ]
     },
     "execution_count": 51,
     "metadata": {},
     "output_type": "execute_result"
    }
   ],
   "source": [
    "soup.find_all('address')"
   ]
  },
  {
   "cell_type": "code",
   "execution_count": 52,
   "id": "f33bf28f-51bc-45b5-a474-9f1497269698",
   "metadata": {},
   "outputs": [
    {
     "data": {
      "text/plain": [
       "[<q> There are more things in heaven and earth, Horatio, <br/> Than are dreamt of in your philosophy. </q>]"
      ]
     },
     "execution_count": 52,
     "metadata": {},
     "output_type": "execute_result"
    }
   ],
   "source": [
    "soup.find_all('q')"
   ]
  },
  {
   "cell_type": "code",
   "execution_count": 53,
   "id": "7018595b-10ed-4b1a-8e71-be1e77f97517",
   "metadata": {},
   "outputs": [
    {
     "data": {
      "text/plain": [
       "[<b>Sherlock </b>, <b>Hamlet</b>, <b>Horatio</b>]"
      ]
     },
     "execution_count": 53,
     "metadata": {},
     "output_type": "execute_result"
    }
   ],
   "source": [
    "soup.find_all('b')"
   ]
  },
  {
   "cell_type": "code",
   "execution_count": 54,
   "id": "486902a1-35b0-4a21-9242-4a3a6113bcad",
   "metadata": {},
   "outputs": [
    {
     "data": {
      "text/plain": [
       "[<table>\n",
       " <tr>\n",
       " <th>name</th>\n",
       " <th>qualification</th>\n",
       " <th>additional qualification</th>\n",
       " <th>other qualification</th>\n",
       " </tr>\n",
       " <tr>\n",
       " <td>Gangaram</td>\n",
       " <td>B.Tech</td>\n",
       " <td>NA</td>\n",
       " <td>NA</td>\n",
       " </tr>\n",
       " <tr>\n",
       " <td>Ganga</td>\n",
       " <td>B.A.</td>\n",
       " <td>NA</td>\n",
       " <td>NA</td>\n",
       " </tr>\n",
       " <tr>\n",
       " <td>Ram</td>\n",
       " <td>B.Tech</td>\n",
       " <td>M.Tech</td>\n",
       " <td>NA</td>\n",
       " </tr>\n",
       " <tr>\n",
       " <td>Ramlal</td>\n",
       " <td>B.Music</td>\n",
       " <td>NA</td>\n",
       " <td>Diploma in Music</td>\n",
       " </tr>\n",
       " </table>]"
      ]
     },
     "execution_count": 54,
     "metadata": {},
     "output_type": "execute_result"
    }
   ],
   "source": [
    "table = soup.find_all('table')\n",
    "table"
   ]
  },
  {
   "cell_type": "code",
   "execution_count": 55,
   "id": "2e828127-f7c9-4587-b155-7eb203d1e37a",
   "metadata": {},
   "outputs": [
    {
     "ename": "AttributeError",
     "evalue": "ResultSet object has no attribute 'find_all'. You're probably treating a list of elements like a single element. Did you call find_all() when you meant to call find()?",
     "output_type": "error",
     "traceback": [
      "\u001b[0;31m---------------------------------------------------------------------------\u001b[0m",
      "\u001b[0;31mAttributeError\u001b[0m                            Traceback (most recent call last)",
      "\u001b[0;32m<ipython-input-55-61c6a1b68c50>\u001b[0m in \u001b[0;36m<module>\u001b[0;34m\u001b[0m\n\u001b[0;32m----> 1\u001b[0;31m \u001b[0;32mfor\u001b[0m \u001b[0mrow\u001b[0m \u001b[0;32min\u001b[0m \u001b[0mtable\u001b[0m\u001b[0;34m.\u001b[0m\u001b[0mfind_all\u001b[0m\u001b[0;34m(\u001b[0m\u001b[0;34m'tr'\u001b[0m\u001b[0;34m,\u001b[0m \u001b[0mlimit\u001b[0m \u001b[0;34m=\u001b[0m \u001b[0;36m6\u001b[0m\u001b[0;34m)\u001b[0m\u001b[0;34m:\u001b[0m\u001b[0;34m\u001b[0m\u001b[0;34m\u001b[0m\u001b[0m\n\u001b[0m\u001b[1;32m      2\u001b[0m     \u001b[0mcolumns\u001b[0m \u001b[0;34m=\u001b[0m \u001b[0mrow\u001b[0m\u001b[0;34m.\u001b[0m\u001b[0mfind_all\u001b[0m\u001b[0;34m(\u001b[0m\u001b[0;34m'td'\u001b[0m\u001b[0;34m)\u001b[0m\u001b[0;34m\u001b[0m\u001b[0;34m\u001b[0m\u001b[0m\n\u001b[1;32m      3\u001b[0m     \u001b[0mprint\u001b[0m\u001b[0;34m(\u001b[0m\u001b[0mcolumns\u001b[0m\u001b[0;34m)\u001b[0m\u001b[0;34m\u001b[0m\u001b[0;34m\u001b[0m\u001b[0m\n\u001b[1;32m      4\u001b[0m \u001b[0;34m\u001b[0m\u001b[0m\n\u001b[1;32m      5\u001b[0m \u001b[0mtable\u001b[0m\u001b[0;34m.\u001b[0m\u001b[0mfind_all\u001b[0m\u001b[0;34m(\u001b[0m\u001b[0;34m'tr'\u001b[0m\u001b[0;34m)\u001b[0m\u001b[0;34m[\u001b[0m\u001b[0;36m3\u001b[0m\u001b[0;34m]\u001b[0m\u001b[0;34m.\u001b[0m\u001b[0mfind_all\u001b[0m\u001b[0;34m(\u001b[0m\u001b[0;34m'td'\u001b[0m\u001b[0;34m)\u001b[0m\u001b[0;34m[\u001b[0m\u001b[0;36m2\u001b[0m\u001b[0;34m]\u001b[0m\u001b[0;34m\u001b[0m\u001b[0;34m\u001b[0m\u001b[0m\n",
      "\u001b[0;32m~/anaconda3/lib/python3.8/site-packages/bs4/element.py\u001b[0m in \u001b[0;36m__getattr__\u001b[0;34m(self, key)\u001b[0m\n\u001b[1;32m   2171\u001b[0m     \u001b[0;32mdef\u001b[0m \u001b[0m__getattr__\u001b[0m\u001b[0;34m(\u001b[0m\u001b[0mself\u001b[0m\u001b[0;34m,\u001b[0m \u001b[0mkey\u001b[0m\u001b[0;34m)\u001b[0m\u001b[0;34m:\u001b[0m\u001b[0;34m\u001b[0m\u001b[0;34m\u001b[0m\u001b[0m\n\u001b[1;32m   2172\u001b[0m         \u001b[0;34m\"\"\"Raise a helpful exception to explain a common code fix.\"\"\"\u001b[0m\u001b[0;34m\u001b[0m\u001b[0;34m\u001b[0m\u001b[0m\n\u001b[0;32m-> 2173\u001b[0;31m         raise AttributeError(\n\u001b[0m\u001b[1;32m   2174\u001b[0m             \u001b[0;34m\"ResultSet object has no attribute '%s'. You're probably treating a list of elements like a single element. Did you call find_all() when you meant to call find()?\"\u001b[0m \u001b[0;34m%\u001b[0m \u001b[0mkey\u001b[0m\u001b[0;34m\u001b[0m\u001b[0;34m\u001b[0m\u001b[0m\n\u001b[1;32m   2175\u001b[0m         )\n",
      "\u001b[0;31mAttributeError\u001b[0m: ResultSet object has no attribute 'find_all'. You're probably treating a list of elements like a single element. Did you call find_all() when you meant to call find()?"
     ]
    }
   ],
   "source": [
    "for row in table.find_all('tr', limit = 6):\n",
    "    columns = row.find_all('td')\n",
    "    print(columns)\n",
    "    \n",
    "table.find_all('tr')[3].find_all('td')[2]"
   ]
  },
  {
   "cell_type": "code",
   "execution_count": 34,
   "id": "92682196-5494-4192-ae18-5e155bbb4eaf",
   "metadata": {},
   "outputs": [
    {
     "data": {
      "text/plain": [
       "200"
      ]
     },
     "execution_count": 34,
     "metadata": {},
     "output_type": "execute_result"
    }
   ],
   "source": [
    "import requests\n",
    "\"\"\"\"\n",
    "Let's read the text version of david copper field\n",
    "available online\n",
    "\"\"\"\n",
    "r = requests.get('https://www.gutenberg.org/files/766/766-0.txt')\n",
    "r.status_code"
   ]
  },
  {
   "cell_type": "code",
   "execution_count": 35,
   "id": "df70b18d-11d5-4266-b4f6-800567d50910",
   "metadata": {},
   "outputs": [
    {
     "data": {
      "text/plain": [
       "'ï»¿The Project Gutenberg EBook of David Copperfield, by Charles Dickens\\r\\n\\r\\nThis eBook is for the use of anyone anywhere at no cost and with\\r\\nalmost no restrictions whatsoever.  You may copy it, give it away or\\r\\nre-use it under the terms of the Project Gutenberg License included\\r\\nwith this eBook or online at www.gutenberg.org\\r\\n\\r\\n\\r\\nTitle: David Copperfield\\r\\n\\r\\nAuthor: Charles Dickens\\r\\n\\r\\nRelease Date: December, 1996  [Etext #766]\\r\\nPosting Date: November 24, 2009\\r\\nLast Updated: September 25, 2016\\r\\n\\r\\nLanguage: English\\r\\n\\r\\nCharacter set encoding: UTF-8\\r\\n\\r\\n*** START OF THIS PROJECT GUTENBERG EBOOK DAVID COPPERFIELD ***\\r\\n\\r\\n\\r\\n\\r\\n\\r\\nProduced by Jo Churcher\\r\\n\\r\\n\\r\\n\\r\\n\\r\\n\\r\\nDAVID COPPERFIELD\\r\\n\\r\\n\\r\\nBy Charles Dickens\\r\\n\\r\\n\\r\\n\\r\\n               AFFECTIONATELY INSCRIBED TO\\r\\n               THE HON.  Mr. AND Mrs. RICHARD WATSON,\\r\\n               OF ROCKINGHAM, NORTHAMPTONSHIRE.\\r\\n\\r\\n\\r\\nCONTENTS\\r\\n\\r\\n\\r\\n     I.      I Am Born\\r\\n     II.     I Observe\\r\\n     III.    I Have a Change\\r\\n     IV.     I Fall into Disgrace\\r\\n     V.   '"
      ]
     },
     "execution_count": 35,
     "metadata": {},
     "output_type": "execute_result"
    }
   ],
   "source": [
    "r.text[:1000]"
   ]
  },
  {
   "cell_type": "code",
   "execution_count": 36,
   "id": "26fb83fe-96d4-40e3-96b4-351001097634",
   "metadata": {},
   "outputs": [
    {
     "data": {
      "text/plain": [
       "2033139"
      ]
     },
     "execution_count": 36,
     "metadata": {},
     "output_type": "execute_result"
    }
   ],
   "source": [
    "from pathlib import Path\n",
    "open(Path(\"David_Copperfield.txt\"),'w',\\\n",
    "     encoding='utf-8').write(r.text)"
   ]
  },
  {
   "cell_type": "code",
   "execution_count": null,
   "id": "0cc1d177-520c-4241-8573-0380d2636cd9",
   "metadata": {},
   "outputs": [],
   "source": []
  },
  {
   "cell_type": "code",
   "execution_count": 37,
   "id": "5c1c145c-0089-481e-a46f-ca969b5a8caf",
   "metadata": {},
   "outputs": [
    {
     "data": {
      "text/plain": [
       "200"
      ]
     },
     "execution_count": 37,
     "metadata": {},
     "output_type": "execute_result"
    }
   ],
   "source": [
    "import urllib3\n",
    "http = urllib3.PoolManager()\n",
    "rr = http.request('GET', \\\n",
    "                  'http://www.gutenberg.org/files/766/766-0.txt')\n",
    "rr.status"
   ]
  },
  {
   "cell_type": "code",
   "execution_count": 38,
   "id": "de702e29-4c1c-4978-9a39-e0b3693112a4",
   "metadata": {},
   "outputs": [
    {
     "data": {
      "text/plain": [
       "b'\\xef\\xbb\\xbfThe Project Gutenberg EBook of David Copperfield, by Charles Dickens\\r\\n\\r\\nThis eBook is for the use of anyone anywhere at no cost and with\\r\\nalmost no restrictions whatsoever.  You may copy it, give it away or\\r\\nre-use it under the terms of the Project Gutenberg License included\\r\\nwith this eBook or online at www.gutenberg.org\\r\\n\\r\\n\\r\\nTitle: David Copperfield\\r\\n\\r\\nAuthor: Charles Dickens\\r\\n\\r\\nRelease Date: December, 1996  [Etext #766]\\r\\nPosting Date: November 24, 2009\\r\\nLast Updated: September 25, 2016\\r\\n\\r\\nLanguage: English\\r\\n\\r\\nCharacter set encoding: UTF-8\\r\\n\\r\\n*** START OF THIS PROJECT GUTENBERG EBOOK DAVID COPPERFIELD ***\\r\\n\\r\\n\\r\\n\\r\\n\\r\\nProduced by Jo Churcher\\r\\n\\r\\n\\r\\n\\r\\n\\r\\n\\r\\nDAVID COPPERFIELD\\r\\n\\r\\n\\r\\nBy Charles Dickens\\r\\n\\r\\n\\r\\n\\r\\n               AFFECTIONATELY INSCRIBED TO\\r\\n               THE HON.  Mr. AND Mrs. RICHARD WATSON,\\r\\n               OF ROCKINGHAM, NORTHAMPTONSHIRE.\\r\\n\\r\\n\\r\\nCONTENTS\\r\\n\\r\\n\\r\\n     I.      I Am Born\\r\\n     II.     I Observe\\r\\n     III.    I Have a Change\\r\\n     IV.     I Fall into Disgrace\\r\\n     V.   '"
      ]
     },
     "execution_count": 38,
     "metadata": {},
     "output_type": "execute_result"
    }
   ],
   "source": [
    "rr.data[:1000]"
   ]
  },
  {
   "cell_type": "code",
   "execution_count": 41,
   "id": "cfa83f2f-4c81-4cb7-b0c5-4912d6c3729a",
   "metadata": {},
   "outputs": [
    {
     "data": {
      "text/plain": [
       "2033139"
      ]
     },
     "execution_count": 41,
     "metadata": {},
     "output_type": "execute_result"
    }
   ],
   "source": [
    "open(Path(\"David_Copperfield_new.txt\"), \\\n",
    "     'wb').write(rr.data)"
   ]
  },
  {
   "cell_type": "code",
   "execution_count": null,
   "id": "82670cac-6dc2-4e20-8f29-e716a4fac7bb",
   "metadata": {},
   "outputs": [],
   "source": []
  },
  {
   "cell_type": "code",
   "execution_count": 42,
   "id": "cd9f50bc-b5d2-4d14-a5f2-5eeb2b3a19d6",
   "metadata": {},
   "outputs": [
    {
     "data": {
      "text/plain": [
       "'\\n\\n\\nCh3_Activity7_Developing_end_to_end_Text_Classifiers\\n\\n\\n\\n\\n\\n\\n\\n\\n\\n\\n\\n\\n\\n\\n\\n\\n\\n\\n\\n\\nActivity 7 : Developing '"
      ]
     },
     "execution_count": 42,
     "metadata": {},
     "output_type": "execute_result"
    }
   ],
   "source": [
    "from bs4 import BeautifulSoup\n",
    "soup = BeautifulSoup(open('text_classifier.html'), \\\n",
    "                     'html.parser')\n",
    "soup.text[:100]"
   ]
  },
  {
   "cell_type": "code",
   "execution_count": 43,
   "id": "d03c5dfe-997f-4a0e-b001-3c0b57794218",
   "metadata": {},
   "outputs": [
    {
     "data": {
      "text/plain": [
       "3"
      ]
     },
     "execution_count": 43,
     "metadata": {},
     "output_type": "execute_result"
    }
   ],
   "source": [
    "len(soup.find_all('img'))"
   ]
  },
  {
   "cell_type": "code",
   "execution_count": 44,
   "id": "049e4202-304c-4f4c-9149-67a1a70fe4dd",
   "metadata": {},
   "outputs": [
    {
     "data": {
      "text/plain": [
       "['pandas',\n",
       " 'pd',\n",
       " 'seaborn',\n",
       " 'sns',\n",
       " 'matplotlib.pyplot',\n",
       " 'plt',\n",
       " 're',\n",
       " 'string',\n",
       " 'nltk',\n",
       " 'nltk.corpus',\n",
       " 'nltk.stem',\n",
       " 'sklearn.feature_extraction.text',\n",
       " 'sklearn.model_selection',\n",
       " 'pylab',\n",
       " 'nltk',\n",
       " 'warnings',\n",
       " 'sklearn.metrics',\n",
       " 'sklearn.linear_model',\n",
       " 'sklearn.ensemble',\n",
       " 'xgboost']"
      ]
     },
     "execution_count": 44,
     "metadata": {},
     "output_type": "execute_result"
    }
   ],
   "source": [
    "[i.get_text() for i in soup.find_all\\\n",
    "('span',attrs = {\"class\":\"nn\"})]"
   ]
  },
  {
   "cell_type": "code",
   "execution_count": 45,
   "id": "b1a01553-5cf7-404e-bbbe-7eb9662729e6",
   "metadata": {},
   "outputs": [
    {
     "name": "stdout",
     "output_type": "stream",
     "text": [
      "Model:  Logistic Regression¶\n",
      "\n",
      "confusion matrix: \n",
      " [[28705   151]\n",
      " [ 1663  1396]]\n",
      "\n",
      "accuracy:  0.943161522794924\n",
      "\n",
      "classification report: \n",
      "               precision    recall  f1-score   support\n",
      "\n",
      "           0       0.95      0.99      0.97     28856\n",
      "           1       0.90      0.46      0.61      3059\n",
      "\n",
      "   micro avg       0.94      0.94      0.94     31915\n",
      "   macro avg       0.92      0.73      0.79     31915\n",
      "weighted avg       0.94      0.94      0.93     31915\n",
      "\n",
      "\n",
      "Area under ROC curve for validation set: 0.911224422146723\n",
      "\n",
      "\n",
      "---------------------------------------------------------\n",
      "\n",
      "\n",
      "\n",
      "Model:  Random Forest¶\n",
      "\n",
      "confusion matrix: \n",
      " [[28856     0]\n",
      " [ 2990    69]]\n",
      "\n",
      "accuracy:  0.9063136456211812\n",
      "\n",
      "classification report: \n",
      "               precision    recall  f1-score   support\n",
      "\n",
      "           0       0.91      1.00      0.95     28856\n",
      "           1       1.00      0.02      0.04      3059\n",
      "\n",
      "   micro avg       0.91      0.91      0.91     31915\n",
      "   macro avg       0.95      0.51      0.50     31915\n",
      "weighted avg       0.92      0.91      0.86     31915\n",
      "\n",
      "\n",
      "Area under ROC curve for validation set: 0.8531297215658813\n",
      "\n",
      "\n",
      "---------------------------------------------------------\n",
      "\n",
      "\n",
      "\n",
      "Model:  XG-Boost¶\n",
      "\n",
      "confusion matrix: \n",
      " [[28754   102]\n",
      " [ 1965  1094]]\n",
      "\n",
      "accuracy:  0.935234215885947\n",
      "\n",
      "classification report: \n",
      "               precision    recall  f1-score   support\n",
      "\n",
      "           0       0.94      1.00      0.97     28856\n",
      "           1       0.91      0.36      0.51      3059\n",
      "\n",
      "   micro avg       0.94      0.94      0.94     31915\n",
      "   macro avg       0.93      0.68      0.74     31915\n",
      "weighted avg       0.93      0.94      0.92     31915\n",
      "\n",
      "\n",
      "Area under ROC curve for validation set: 0.7768946011682453\n",
      "\n",
      "\n",
      "---------------------------------------------------------\n",
      "\n",
      "\n",
      "\n"
     ]
    }
   ],
   "source": [
    "for md,i in zip(soup.find_all('h2'), \\\n",
    "                soup.find_all('div',\\\n",
    "                attrs={\"class\":\"output_subarea output_stream \"\\\n",
    "                       \"output_stdout output_text\"})):\n",
    "    print(\"Model: \",md.get_text())\n",
    "    print(i.get_text())\n",
    "    print(\"---------------------------------------------------------\\n\\n\\n\")"
   ]
  },
  {
   "cell_type": "code",
   "execution_count": null,
   "id": "a299b2c8-876e-4224-b5a2-59bfc6f9ab80",
   "metadata": {},
   "outputs": [],
   "source": []
  },
  {
   "cell_type": "code",
   "execution_count": null,
   "id": "b87ad61a-3e68-4087-bfb2-b16531420d9d",
   "metadata": {},
   "outputs": [],
   "source": []
  }
 ],
 "metadata": {
  "kernelspec": {
   "display_name": "Python 3",
   "language": "python",
   "name": "python3"
  },
  "language_info": {
   "codemirror_mode": {
    "name": "ipython",
    "version": 3
   },
   "file_extension": ".py",
   "mimetype": "text/x-python",
   "name": "python",
   "nbconvert_exporter": "python",
   "pygments_lexer": "ipython3",
   "version": "3.8.11"
  }
 },
 "nbformat": 4,
 "nbformat_minor": 5
}
