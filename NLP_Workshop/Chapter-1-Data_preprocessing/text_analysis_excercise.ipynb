{
 "cells": [
  {
   "cell_type": "markdown",
   "id": "57f7c6db-6bef-4d41-9140-a5016ab3d524",
   "metadata": {},
   "source": [
    "### Text Analysis"
   ]
  },
  {
   "cell_type": "markdown",
   "id": "e32dc0b4-fc41-43b9-9c6f-1de4bf32ce38",
   "metadata": {},
   "source": [
    "Text analytics is the method of extracting meaningful insights and answering\n",
    "questions from text data, such as those to do with the length of sentences, length of\n",
    "words, word count, and finding words from the text. Let's understand this with\n",
    "an example.\n",
    "\n",
    "\n",
    "Suppose we are doing a survey using news articles. Let's say we have to find the top\n",
    "five countries that contributed the most in the field of space technology in the past 5\n",
    "years. So, we will collect all the space technology-related news from the past 5 years\n",
    "using the Google News API. Now, we must extract the names of countries in these\n",
    "news articles. We can perform this task using a file containing a list of all the countries\n",
    "in the world.\n",
    "\n",
    "#### Side project: use google news api to query all news related to ENDSARS protest"
   ]
  },
  {
   "cell_type": "code",
   "execution_count": 2,
   "id": "56fe35b4-6547-452d-ae46-cda9e4589023",
   "metadata": {},
   "outputs": [
    {
     "data": {
      "text/plain": [
       "'The quick brown fox jumps over the lazy dog'"
      ]
     },
     "execution_count": 2,
     "metadata": {},
     "output_type": "execute_result"
    }
   ],
   "source": [
    "sentence = 'The quick brown fox jumps over the lazy dog'\n",
    "sentence"
   ]
  },
  {
   "cell_type": "code",
   "execution_count": 9,
   "id": "7ee1d4ac-3402-42a8-8ffe-a6d38174ca52",
   "metadata": {},
   "outputs": [
    {
     "data": {
      "text/plain": [
       "True"
      ]
     },
     "execution_count": 9,
     "metadata": {},
     "output_type": "execute_result"
    }
   ],
   "source": [
    "# find word in a sentence and return True if available\n",
    "def find_word(word, sentence):\n",
    "    return word in sentence\n",
    "\n",
    "\n",
    "find_word('quick', sentence)"
   ]
  },
  {
   "cell_type": "code",
   "execution_count": 11,
   "id": "b583c0d2-96e6-469e-b6ea-6065bd091dc1",
   "metadata": {},
   "outputs": [
    {
     "data": {
      "text/plain": [
       "16"
      ]
     },
     "execution_count": 11,
     "metadata": {},
     "output_type": "execute_result"
    }
   ],
   "source": [
    "# find the index of a word in a text\n",
    "def get_index(word, text):\n",
    "    return text.index(word)\n",
    "\n",
    "get_index('fox', sentence)"
   ]
  },
  {
   "cell_type": "code",
   "execution_count": 12,
   "id": "ba7e2ea7-c644-4a13-9e4a-ff61cd942948",
   "metadata": {},
   "outputs": [
    {
     "data": {
      "text/plain": [
       "7"
      ]
     },
     "execution_count": 12,
     "metadata": {},
     "output_type": "execute_result"
    }
   ],
   "source": [
    "# rank the word 'lazy'\n",
    "get_index('lazy', sentence.split())"
   ]
  },
  {
   "cell_type": "code",
   "execution_count": 14,
   "id": "948e6c91-04d6-4ad7-9c83-66f3b03b8963",
   "metadata": {},
   "outputs": [
    {
     "data": {
      "text/plain": [
       "'jumps'"
      ]
     },
     "execution_count": 14,
     "metadata": {},
     "output_type": "execute_result"
    }
   ],
   "source": [
    "# print the 5 word of a text\n",
    "def get_word(text, rank):\n",
    "    return text.split()[rank]\n",
    "\n",
    "get_word(sentence, 4)"
   ]
  },
  {
   "cell_type": "code",
   "execution_count": 16,
   "id": "568aa4ca-5655-48e1-a8b4-e08c2cebbd84",
   "metadata": {},
   "outputs": [
    {
     "data": {
      "text/plain": [
       "'spmuj'"
      ]
     },
     "execution_count": 16,
     "metadata": {},
     "output_type": "execute_result"
    }
   ],
   "source": [
    "# print the 5th word in reverse order\n",
    "get_word(sentence, 4)[::-1]"
   ]
  },
  {
   "cell_type": "code",
   "execution_count": 26,
   "id": "1a955b76-2fd4-40d4-bc80-8419929fec3d",
   "metadata": {},
   "outputs": [
    {
     "data": {
      "text/plain": [
       "'god yzal eht revo spmuj xof nworb kciuq ehT'"
      ]
     },
     "execution_count": 26,
     "metadata": {},
     "output_type": "execute_result"
    }
   ],
   "source": [
    "# print text in reverse order\n",
    "def get_reverse(text):\n",
    "    return text[::-1]\n",
    "\n",
    "get_reverse(sentence)"
   ]
  },
  {
   "cell_type": "code",
   "execution_count": 21,
   "id": "14b9c683-7d73-442a-ba50-0e9aabfa761b",
   "metadata": {},
   "outputs": [
    {
     "data": {
      "text/plain": [
       "'foxdog'"
      ]
     },
     "execution_count": 21,
     "metadata": {},
     "output_type": "execute_result"
    }
   ],
   "source": [
    "def concat_words(text):\n",
    "    \"\"\"\n",
    "    This method will concat fourth and last\n",
    "    words of given text\n",
    "    \"\"\"\n",
    "    words = text.split()\n",
    "    first_word = words[3]\n",
    "    last_word = words[len(words)-1]\n",
    "    \n",
    "    return first_word + last_word\n",
    "\n",
    "concat_words(sentence)"
   ]
  },
  {
   "cell_type": "code",
   "execution_count": 23,
   "id": "8727b5e7-b05e-4cb2-9571-06499e457c38",
   "metadata": {},
   "outputs": [
    {
     "data": {
      "text/plain": [
       "['quick', 'fox', 'over', 'lazy']"
      ]
     },
     "execution_count": 23,
     "metadata": {},
     "output_type": "execute_result"
    }
   ],
   "source": [
    "# print letters in odd positions\n",
    "def get_odd_position_words(text):\n",
    "    words = text.split()\n",
    "    return [words[i] for i in range(len(words)) if i%2 == 1]\n",
    "\n",
    "get_odd_position_words(sentence)"
   ]
  },
  {
   "cell_type": "code",
   "execution_count": 25,
   "id": "d367cd93-2c71-4a46-8318-9e2c822509c0",
   "metadata": {},
   "outputs": [
    {
     "data": {
      "text/plain": [
       "'y dog'"
      ]
     },
     "execution_count": 25,
     "metadata": {},
     "output_type": "execute_result"
    }
   ],
   "source": [
    "# print the last five letters\n",
    "def get_last_n_letters(text, n):\n",
    "    return text[-n:]\n",
    "\n",
    "get_last_n_letters(sentence, 5)"
   ]
  },
  {
   "cell_type": "code",
   "execution_count": 27,
   "id": "340ac691-b9c2-4721-8dd8-46373305de97",
   "metadata": {},
   "outputs": [
    {
     "data": {
      "text/plain": [
       "'ehT kciuq nworb xof spmuj revo eht yzal god'"
      ]
     },
     "execution_count": 27,
     "metadata": {},
     "output_type": "execute_result"
    }
   ],
   "source": [
    "# \n",
    "def get_word_reverse(text):\n",
    "    words = text.split()\n",
    "    return ' '.join([word[::-1] for word in words])\n",
    "\n",
    "get_word_reverse(sentence)"
   ]
  },
  {
   "cell_type": "code",
   "execution_count": null,
   "id": "18d6fcab-6b39-4de1-ac5a-cb74017daba4",
   "metadata": {},
   "outputs": [],
   "source": []
  }
 ],
 "metadata": {
  "kernelspec": {
   "display_name": "Python 3",
   "language": "python",
   "name": "python3"
  },
  "language_info": {
   "codemirror_mode": {
    "name": "ipython",
    "version": 3
   },
   "file_extension": ".py",
   "mimetype": "text/x-python",
   "name": "python",
   "nbconvert_exporter": "python",
   "pygments_lexer": "ipython3",
   "version": "3.8.11"
  }
 },
 "nbformat": 4,
 "nbformat_minor": 5
}
