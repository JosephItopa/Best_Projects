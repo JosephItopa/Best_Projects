{
 "cells": [
  {
   "cell_type": "markdown",
   "metadata": {},
   "source": [
    "# Lab: Evaluating Binary Classification Models\n",
    "How do you know if the model you have built is a good predictor of your output variable?  \n",
    "\n",
    "This lab will walk you through building several binary classification models using different model methodologies and then comparing the model predictions using evaulation tools such as accuracy, a confusion matrix or an ROC curve."
   ]
  },
  {
   "cell_type": "markdown",
   "metadata": {},
   "source": [
    "## Section 1: Prepare Model Data\n",
    "For this lab, we will be using the [Titanic data](https://www.kaggle.com/c/titanic) from Kaggle.  \n",
    "\n",
    "The goal of your models will be to predict whether a passenger survived or perished in the Titanic disaster.  Kaggle has provided a data set with the following columns:\n",
    " * <b>PassengerId</b>: Unique identifier for each passenger\n",
    " * <b>Survived</b>: Whether the passenger survived (1 = survived; 0 = died)\n",
    " * <b>Pclass</b>: Class of ticket purchased by the passenger (1 = 1st class; 2 = 2nd class; 3 = 3rd class)\n",
    " * <b>Name</b>: Passenger name\n",
    " * <b>Sex</b>: Gender of the passenger (male/female)\n",
    " * <b>Age</b>: Age of the passenger\n",
    " * <b>SibSp</b>: Number of siblings/spouses of passenger also aboard the Titanic\n",
    " * <b>Parch</b>: Number of parents/children of passenger also aboard the Titanic\n",
    " * <b>Ticket</b>: Ticket number of the passenger\n",
    " * <b>Cabin</b>: Cabin number of the passenger\n",
    " * <b>Fare</b>: Amount of money the passenger paid for his/her ticket\n",
    " * <b>Embarked</b>: Port of embarkation (where the passenger got on the ship)"
   ]
  },
  {
   "cell_type": "markdown",
   "metadata": {},
   "source": [
    "### Import CSV Data\n",
    "You will be using the [pandas](https://pandas.pydata.org/docs/user_guide/index.html) python package to import the provided CSV into a dataframe."
   ]
  },
  {
   "cell_type": "code",
   "execution_count": 1,
   "metadata": {},
   "outputs": [
    {
     "data": {
      "text/html": [
       "<div>\n",
       "<style scoped>\n",
       "    .dataframe tbody tr th:only-of-type {\n",
       "        vertical-align: middle;\n",
       "    }\n",
       "\n",
       "    .dataframe tbody tr th {\n",
       "        vertical-align: top;\n",
       "    }\n",
       "\n",
       "    .dataframe thead th {\n",
       "        text-align: right;\n",
       "    }\n",
       "</style>\n",
       "<table border=\"1\" class=\"dataframe\">\n",
       "  <thead>\n",
       "    <tr style=\"text-align: right;\">\n",
       "      <th></th>\n",
       "      <th>PassengerId</th>\n",
       "      <th>Survived</th>\n",
       "      <th>Pclass</th>\n",
       "      <th>Name</th>\n",
       "      <th>Sex</th>\n",
       "      <th>Age</th>\n",
       "      <th>SibSp</th>\n",
       "      <th>Parch</th>\n",
       "      <th>Ticket</th>\n",
       "      <th>Fare</th>\n",
       "      <th>Cabin</th>\n",
       "      <th>Embarked</th>\n",
       "    </tr>\n",
       "  </thead>\n",
       "  <tbody>\n",
       "    <tr>\n",
       "      <th>0</th>\n",
       "      <td>1</td>\n",
       "      <td>0</td>\n",
       "      <td>3</td>\n",
       "      <td>Braund, Mr. Owen Harris</td>\n",
       "      <td>male</td>\n",
       "      <td>22.0</td>\n",
       "      <td>1</td>\n",
       "      <td>0</td>\n",
       "      <td>A/5 21171</td>\n",
       "      <td>7.2500</td>\n",
       "      <td>NaN</td>\n",
       "      <td>S</td>\n",
       "    </tr>\n",
       "    <tr>\n",
       "      <th>1</th>\n",
       "      <td>2</td>\n",
       "      <td>1</td>\n",
       "      <td>1</td>\n",
       "      <td>Cumings, Mrs. John Bradley (Florence Briggs Th...</td>\n",
       "      <td>female</td>\n",
       "      <td>38.0</td>\n",
       "      <td>1</td>\n",
       "      <td>0</td>\n",
       "      <td>PC 17599</td>\n",
       "      <td>71.2833</td>\n",
       "      <td>C85</td>\n",
       "      <td>C</td>\n",
       "    </tr>\n",
       "    <tr>\n",
       "      <th>2</th>\n",
       "      <td>3</td>\n",
       "      <td>1</td>\n",
       "      <td>3</td>\n",
       "      <td>Heikkinen, Miss. Laina</td>\n",
       "      <td>female</td>\n",
       "      <td>26.0</td>\n",
       "      <td>0</td>\n",
       "      <td>0</td>\n",
       "      <td>STON/O2. 3101282</td>\n",
       "      <td>7.9250</td>\n",
       "      <td>NaN</td>\n",
       "      <td>S</td>\n",
       "    </tr>\n",
       "    <tr>\n",
       "      <th>3</th>\n",
       "      <td>4</td>\n",
       "      <td>1</td>\n",
       "      <td>1</td>\n",
       "      <td>Futrelle, Mrs. Jacques Heath (Lily May Peel)</td>\n",
       "      <td>female</td>\n",
       "      <td>35.0</td>\n",
       "      <td>1</td>\n",
       "      <td>0</td>\n",
       "      <td>113803</td>\n",
       "      <td>53.1000</td>\n",
       "      <td>C123</td>\n",
       "      <td>S</td>\n",
       "    </tr>\n",
       "    <tr>\n",
       "      <th>4</th>\n",
       "      <td>5</td>\n",
       "      <td>0</td>\n",
       "      <td>3</td>\n",
       "      <td>Allen, Mr. William Henry</td>\n",
       "      <td>male</td>\n",
       "      <td>35.0</td>\n",
       "      <td>0</td>\n",
       "      <td>0</td>\n",
       "      <td>373450</td>\n",
       "      <td>8.0500</td>\n",
       "      <td>NaN</td>\n",
       "      <td>S</td>\n",
       "    </tr>\n",
       "    <tr>\n",
       "      <th>5</th>\n",
       "      <td>6</td>\n",
       "      <td>0</td>\n",
       "      <td>3</td>\n",
       "      <td>Moran, Mr. James</td>\n",
       "      <td>male</td>\n",
       "      <td>NaN</td>\n",
       "      <td>0</td>\n",
       "      <td>0</td>\n",
       "      <td>330877</td>\n",
       "      <td>8.4583</td>\n",
       "      <td>NaN</td>\n",
       "      <td>Q</td>\n",
       "    </tr>\n",
       "    <tr>\n",
       "      <th>6</th>\n",
       "      <td>7</td>\n",
       "      <td>0</td>\n",
       "      <td>1</td>\n",
       "      <td>McCarthy, Mr. Timothy J</td>\n",
       "      <td>male</td>\n",
       "      <td>54.0</td>\n",
       "      <td>0</td>\n",
       "      <td>0</td>\n",
       "      <td>17463</td>\n",
       "      <td>51.8625</td>\n",
       "      <td>E46</td>\n",
       "      <td>S</td>\n",
       "    </tr>\n",
       "    <tr>\n",
       "      <th>7</th>\n",
       "      <td>8</td>\n",
       "      <td>0</td>\n",
       "      <td>3</td>\n",
       "      <td>Palsson, Master. Gosta Leonard</td>\n",
       "      <td>male</td>\n",
       "      <td>2.0</td>\n",
       "      <td>3</td>\n",
       "      <td>1</td>\n",
       "      <td>349909</td>\n",
       "      <td>21.0750</td>\n",
       "      <td>NaN</td>\n",
       "      <td>S</td>\n",
       "    </tr>\n",
       "    <tr>\n",
       "      <th>8</th>\n",
       "      <td>9</td>\n",
       "      <td>1</td>\n",
       "      <td>3</td>\n",
       "      <td>Johnson, Mrs. Oscar W (Elisabeth Vilhelmina Berg)</td>\n",
       "      <td>female</td>\n",
       "      <td>27.0</td>\n",
       "      <td>0</td>\n",
       "      <td>2</td>\n",
       "      <td>347742</td>\n",
       "      <td>11.1333</td>\n",
       "      <td>NaN</td>\n",
       "      <td>S</td>\n",
       "    </tr>\n",
       "    <tr>\n",
       "      <th>9</th>\n",
       "      <td>10</td>\n",
       "      <td>1</td>\n",
       "      <td>2</td>\n",
       "      <td>Nasser, Mrs. Nicholas (Adele Achem)</td>\n",
       "      <td>female</td>\n",
       "      <td>14.0</td>\n",
       "      <td>1</td>\n",
       "      <td>0</td>\n",
       "      <td>237736</td>\n",
       "      <td>30.0708</td>\n",
       "      <td>NaN</td>\n",
       "      <td>C</td>\n",
       "    </tr>\n",
       "  </tbody>\n",
       "</table>\n",
       "</div>"
      ],
      "text/plain": [
       "   PassengerId  Survived  Pclass  \\\n",
       "0            1         0       3   \n",
       "1            2         1       1   \n",
       "2            3         1       3   \n",
       "3            4         1       1   \n",
       "4            5         0       3   \n",
       "5            6         0       3   \n",
       "6            7         0       1   \n",
       "7            8         0       3   \n",
       "8            9         1       3   \n",
       "9           10         1       2   \n",
       "\n",
       "                                                Name     Sex   Age  SibSp  \\\n",
       "0                            Braund, Mr. Owen Harris    male  22.0      1   \n",
       "1  Cumings, Mrs. John Bradley (Florence Briggs Th...  female  38.0      1   \n",
       "2                             Heikkinen, Miss. Laina  female  26.0      0   \n",
       "3       Futrelle, Mrs. Jacques Heath (Lily May Peel)  female  35.0      1   \n",
       "4                           Allen, Mr. William Henry    male  35.0      0   \n",
       "5                                   Moran, Mr. James    male   NaN      0   \n",
       "6                            McCarthy, Mr. Timothy J    male  54.0      0   \n",
       "7                     Palsson, Master. Gosta Leonard    male   2.0      3   \n",
       "8  Johnson, Mrs. Oscar W (Elisabeth Vilhelmina Berg)  female  27.0      0   \n",
       "9                Nasser, Mrs. Nicholas (Adele Achem)  female  14.0      1   \n",
       "\n",
       "   Parch            Ticket     Fare Cabin Embarked  \n",
       "0      0         A/5 21171   7.2500   NaN        S  \n",
       "1      0          PC 17599  71.2833   C85        C  \n",
       "2      0  STON/O2. 3101282   7.9250   NaN        S  \n",
       "3      0            113803  53.1000  C123        S  \n",
       "4      0            373450   8.0500   NaN        S  \n",
       "5      0            330877   8.4583   NaN        Q  \n",
       "6      0             17463  51.8625   E46        S  \n",
       "7      1            349909  21.0750   NaN        S  \n",
       "8      2            347742  11.1333   NaN        S  \n",
       "9      0            237736  30.0708   NaN        C  "
      ]
     },
     "execution_count": 1,
     "metadata": {},
     "output_type": "execute_result"
    }
   ],
   "source": [
    "#Import the pandas package and \"nickname\" it \"pd\"\n",
    "import pandas as pd\n",
    "\n",
    "#Import the Titanic data using the \"read_csv\" function of pandas\n",
    "data = pd.read_csv('data_files/classification/titanic.csv')\n",
    "#Display the first ten rows of your dataframe\n",
    "data.head(10)"
   ]
  },
  {
   "cell_type": "markdown",
   "metadata": {},
   "source": [
    "### Select Model Features\n",
    "The **Survived** column is the labeled output.  This is what your model is trying to predict.\n",
    "\n",
    "The rest of the data columns are possible input or feature variables for your model.  The data in these columns will be used to make our predictions.\n",
    "\n",
    "The goal of your model is to use the training data to build a model that generalizes well.  This means that it will make correct predictions on new, unseen data that you did not use to train the model.  Therefore, not all data columns will be useful for your model.  For example, the **PassengerID** column is a meaningless identifier.  The **Name** column is unique to each passenger so it will not have general predictive power.  \n",
    "\n",
    "For the purposes of this lab, you will be using the following data fields to build your classification models:\n",
    " * Pclass\n",
    " * Sex\n",
    " * Age\n",
    " * SibSp\n",
    " * Parch\n",
    " \n",
    " As extra practice, you can adjust the models you build by adding and removing columns (and even making your own feature column using a process called [feature engineering](https://en.wikipedia.org/wiki/Feature_engineering))."
   ]
  },
  {
   "cell_type": "markdown",
   "metadata": {},
   "source": [
    "#### Handle Missing or Unknown Data\n",
    "You should check your data to see if there are any missing/unknown values.\n",
    "\n",
    "First, check the output column.\n",
    "\n",
    "*pandas* allows you to select a single column of a dataframe by indexing on the column name.  You can then use the *.isnull()* function to get a logical output (True if the value is null and False otherwise).  By summing this logical column, you will get a count of how many True (i.e., missing) values you have."
   ]
  },
  {
   "cell_type": "code",
   "execution_count": 2,
   "metadata": {},
   "outputs": [
    {
     "name": "stdout",
     "output_type": "stream",
     "text": [
      "There are 0 missing rows in the Survived column.\n"
     ]
    }
   ],
   "source": [
    "#Count the number of missing/null values in the Survived column\n",
    "missing_survived = data['Survived'].isnull().sum()\n",
    "print('There are {} missing rows in the Survived column.'.format(missing_survived))"
   ]
  },
  {
   "cell_type": "markdown",
   "metadata": {},
   "source": [
    "You can now do the same thing for the Age column."
   ]
  },
  {
   "cell_type": "code",
   "execution_count": 3,
   "metadata": {},
   "outputs": [
    {
     "name": "stdout",
     "output_type": "stream",
     "text": [
      "There are 177 missing rows in the Age column.\n"
     ]
    }
   ],
   "source": [
    "#Count the number of missing/null values in the Age column\n",
    "missing_age = data['Age'].isnull().sum()\n",
    "print('There are {} missing rows in the Age column.'.format(missing_age))"
   ]
  },
  {
   "cell_type": "markdown",
   "metadata": {},
   "source": [
    "There are 177 rows (out of a total of 891 rows of data in our dataset) that do not have an age value for the passenger.\n",
    "\n",
    "You could just remove those rows from your dataset, but that would mean throwing away about 20% of the data.  Instead, you can replace the missing data with a default value.  In this case, you should use the default value of the mean or average age of all passengers.\n",
    "\n",
    "The code below uses the *.fillna()* function of *pandas* to replace the missing ages with the average age."
   ]
  },
  {
   "cell_type": "code",
   "execution_count": 4,
   "metadata": {},
   "outputs": [],
   "source": [
    "#Replace missing/unknown age with the overall average age of all passengers\n",
    "\n",
    "#Calculate the average age for the non-null data\n",
    "avg_age = data['Age'][~data['Age'].isnull()].mean()\n",
    "\n",
    "#Replace the na values with average age\n",
    "data['Age'] = data['Age'].fillna(avg_age)"
   ]
  },
  {
   "cell_type": "markdown",
   "metadata": {},
   "source": [
    "Now, you should check the other input columns for missing/null values."
   ]
  },
  {
   "cell_type": "code",
   "execution_count": 5,
   "metadata": {},
   "outputs": [
    {
     "name": "stdout",
     "output_type": "stream",
     "text": [
      "There are 0 missing rows in the PClass column.\n",
      "There are 0 missing rows in the Sex column.\n",
      "There are 0 missing rows in the SibSp column.\n",
      "There are 0 missing rows in the Parch column.\n"
     ]
    }
   ],
   "source": [
    "#Count the number of missing/null values in the PClass column\n",
    "missing_pclass = data['Pclass'].isnull().sum()\n",
    "\n",
    "#Count the number of missing/null values in the Sex column\n",
    "missing_sex = data['Sex'].isnull().sum()\n",
    "\n",
    "#Count the number of missing/null values in the SibSp column\n",
    "missing_sibsp = data['SibSp'].isnull().sum()\n",
    "\n",
    "#Count the number of missing/null values in the Parch column\n",
    "missing_parch = data['Parch'].isnull().sum()\n",
    "\n",
    "print('There are {} missing rows in the PClass column.'.format(missing_pclass))\n",
    "print('There are {} missing rows in the Sex column.'.format(missing_sex))\n",
    "print('There are {} missing rows in the SibSp column.'.format(missing_sibsp))\n",
    "print('There are {} missing rows in the Parch column.'.format(missing_parch))"
   ]
  },
  {
   "cell_type": "markdown",
   "metadata": {},
   "source": [
    "#### Handle Categorical Data\n",
    "The **Sex** column contains categorical data.  The value is one of two categories: male or female.\n",
    "\n",
    "This type of data is meaningful to humans but can be hard for models to understand.  So instead, you will convert this to a [dummy variable](https://en.wikipedia.org/wiki/Dummy_variable_(statistics)).  This means you will be creating a single column that has a 1 if the passenger is male and a 0 if the passenger is female.  Note that you can always have one fewer dummy variables than categories (so in this case, 2 categories - 1 = 1 dummy variable) to fully describe the total set of categorical values (since each dummy variable has two values: true or 1 and false or 0).\n",
    "\n",
    "*pandas* has a *.get_dummies()* function, which can be used to create a new column in your dataframe called \"Male.\""
   ]
  },
  {
   "cell_type": "code",
   "execution_count": 6,
   "metadata": {},
   "outputs": [
    {
     "data": {
      "text/html": [
       "<div>\n",
       "<style scoped>\n",
       "    .dataframe tbody tr th:only-of-type {\n",
       "        vertical-align: middle;\n",
       "    }\n",
       "\n",
       "    .dataframe tbody tr th {\n",
       "        vertical-align: top;\n",
       "    }\n",
       "\n",
       "    .dataframe thead th {\n",
       "        text-align: right;\n",
       "    }\n",
       "</style>\n",
       "<table border=\"1\" class=\"dataframe\">\n",
       "  <thead>\n",
       "    <tr style=\"text-align: right;\">\n",
       "      <th></th>\n",
       "      <th>Sex</th>\n",
       "      <th>Male</th>\n",
       "    </tr>\n",
       "  </thead>\n",
       "  <tbody>\n",
       "    <tr>\n",
       "      <th>0</th>\n",
       "      <td>male</td>\n",
       "      <td>1</td>\n",
       "    </tr>\n",
       "    <tr>\n",
       "      <th>1</th>\n",
       "      <td>female</td>\n",
       "      <td>0</td>\n",
       "    </tr>\n",
       "    <tr>\n",
       "      <th>2</th>\n",
       "      <td>female</td>\n",
       "      <td>0</td>\n",
       "    </tr>\n",
       "    <tr>\n",
       "      <th>3</th>\n",
       "      <td>female</td>\n",
       "      <td>0</td>\n",
       "    </tr>\n",
       "    <tr>\n",
       "      <th>4</th>\n",
       "      <td>male</td>\n",
       "      <td>1</td>\n",
       "    </tr>\n",
       "    <tr>\n",
       "      <th>...</th>\n",
       "      <td>...</td>\n",
       "      <td>...</td>\n",
       "    </tr>\n",
       "    <tr>\n",
       "      <th>886</th>\n",
       "      <td>male</td>\n",
       "      <td>1</td>\n",
       "    </tr>\n",
       "    <tr>\n",
       "      <th>887</th>\n",
       "      <td>female</td>\n",
       "      <td>0</td>\n",
       "    </tr>\n",
       "    <tr>\n",
       "      <th>888</th>\n",
       "      <td>female</td>\n",
       "      <td>0</td>\n",
       "    </tr>\n",
       "    <tr>\n",
       "      <th>889</th>\n",
       "      <td>male</td>\n",
       "      <td>1</td>\n",
       "    </tr>\n",
       "    <tr>\n",
       "      <th>890</th>\n",
       "      <td>male</td>\n",
       "      <td>1</td>\n",
       "    </tr>\n",
       "  </tbody>\n",
       "</table>\n",
       "<p>891 rows × 2 columns</p>\n",
       "</div>"
      ],
      "text/plain": [
       "        Sex  Male\n",
       "0      male     1\n",
       "1    female     0\n",
       "2    female     0\n",
       "3    female     0\n",
       "4      male     1\n",
       "..      ...   ...\n",
       "886    male     1\n",
       "887  female     0\n",
       "888  female     0\n",
       "889    male     1\n",
       "890    male     1\n",
       "\n",
       "[891 rows x 2 columns]"
      ]
     },
     "execution_count": 6,
     "metadata": {},
     "output_type": "execute_result"
    }
   ],
   "source": [
    "#Turn \"Sex\" column into dummy variable\n",
    "data['Male'] = pd.get_dummies(data['Sex'], drop_first= True)\n",
    "\n",
    "#View the sex column and the new \"male\" dummy variable column side by side\n",
    "data[['Sex','Male']]"
   ]
  },
  {
   "cell_type": "markdown",
   "metadata": {},
   "source": [
    "### Create training and test datasets\n",
    "As mentioned earlier, you will ultimately want to see how your models perform on new, unseen data.  Therefore, you will need to reserve a portion of your dataset where you know the output (survived or died).  This will allow you to compare your model output with the true output.\n",
    "\n",
    "The [scikit-learn](https://scikit-learn.org/stable/user_guide.html) package in python has many useful functions for machine learning, including a function to split your data into training and test data sets.\n",
    "\n",
    "To split your dataframe into training and test datasets, you will utilize the [train_test_split](https://scikit-learn.org/stable/modules/generated/sklearn.model_selection.train_test_split.html#sklearn.model_selection.train_test_split) function from the *model_selection* subpackage."
   ]
  },
  {
   "cell_type": "code",
   "execution_count": 7,
   "metadata": {},
   "outputs": [
    {
     "name": "stdout",
     "output_type": "stream",
     "text": [
      "The full dataset has 891 rows.\n",
      "The training dataset has 712 rows.\n",
      "The test dataset has 179 rows.\n"
     ]
    }
   ],
   "source": [
    "#Import the train_test_split function\n",
    "from sklearn.model_selection import train_test_split\n",
    "\n",
    "#Create a dataframe with only the features (or predictor) variables\n",
    "features = data[['Pclass', 'Age', 'SibSp', 'Parch', 'Male']]\n",
    "#Create a dataframe of just the output column\n",
    "output = data['Survived']\n",
    "\n",
    "#Create a training and test split using an 80%/20% split\n",
    "features_train, \\\n",
    "features_test, \\\n",
    "output_train, \\\n",
    "output_test = train_test_split(features, output, test_size = 0.2, random_state = 123)\n",
    "\n",
    "#Count the rows in the training/test set.\n",
    "print('The full dataset has {} rows.'.format(output.count()))\n",
    "print('The training dataset has {} rows.'.format(output_train.count()))\n",
    "print('The test dataset has {} rows.'.format(output_test.count()))"
   ]
  },
  {
   "cell_type": "markdown",
   "metadata": {},
   "source": [
    "## Section 2: Build Binary Classification Models\n",
    "You can now build your binary classification models.  Binary means the model will be predicting only one of two outcomes and classification means that we are predicting categories or classifications as our output (in this case survived/died or 1/0).\n",
    "\n",
    "There are many different algorithms and methodologies to build binary classification models.  For this lab, you will be using *scikit-learn* to build the following models:\n",
    " * [Logistic Regression](https://scikit-learn.org/stable/modules/generated/sklearn.linear_model.LogisticRegression.html)\n",
    " * [Decision Tree](https://scikit-learn.org/stable/modules/generated/sklearn.tree.DecisionTreeClassifier.html)\n",
    " * [K-Nearest Neighbors](https://scikit-learn.org/stable/modules/generated/sklearn.neighbors.KNeighborsClassifier.html)"
   ]
  },
  {
   "cell_type": "markdown",
   "metadata": {},
   "source": [
    "The first model for you to build is a Logistic Regression model."
   ]
  },
  {
   "cell_type": "code",
   "execution_count": 8,
   "metadata": {},
   "outputs": [],
   "source": [
    "#Import Logistic Regression function from scikit-learn\n",
    "from sklearn.linear_model import LogisticRegression\n",
    "\n",
    "#Create a base logistic regression model\n",
    "lr = LogisticRegression()\n",
    "\n",
    "#Fit the model using your training data\n",
    "lr.fit(features_train, output_train)\n",
    "\n",
    "#Use the test data to make predictions of the outcome\n",
    "lr_pred = lr.predict(features_test)"
   ]
  },
  {
   "cell_type": "markdown",
   "metadata": {},
   "source": [
    "Using the pattern demonstrated above to build the Logistic Regression model, build the other two models in the cells below."
   ]
  },
  {
   "cell_type": "code",
   "execution_count": 11,
   "metadata": {},
   "outputs": [],
   "source": [
    "#BUILD THE DECISION TREE MODEL\n",
    "#Import Decision Tree function from scikit-learn\n",
    "from sklearn.tree import DecisionTreeClassifier\n",
    "\n",
    "#Create a base Decision Tree model\n",
    "tree = DecisionTreeClassifier()\n",
    "\n",
    "#Fit the model using your training data\n",
    "tree.fit(features_train, output_train)\n",
    "\n",
    "#Use the test data to make predictions of the outcome\n",
    "tree_pred = tree.predict(features_test)"
   ]
  },
  {
   "cell_type": "code",
   "execution_count": 12,
   "metadata": {},
   "outputs": [],
   "source": [
    "#BUILD THE K-NEAREST NEIGHBOR MODEL\n",
    "#Import K-Nearest Neighbor function from scikit-learn\n",
    "from sklearn.neighbors import KNeighborsClassifier\n",
    "\n",
    "#Create a base Decision Tree model\n",
    "knn = KNeighborsClassifier()\n",
    "\n",
    "#Fit the model using your training data\n",
    "knn.fit(features_train, output_train)\n",
    "\n",
    "#Use the test data to make predictions of the outcome\n",
    "knn_pred = knn.predict(features_test)"
   ]
  },
  {
   "cell_type": "markdown",
   "metadata": {},
   "source": [
    "## Section 3: Evaluate Classification Models\n",
    "How can you determine if the models you just built do a good job predicting the output on your test data set?  This is where evaluation metrics come into play."
   ]
  },
  {
   "cell_type": "markdown",
   "metadata": {},
   "source": [
    "### Accuracy Score\n",
    "First, you can look at the test accuracy.  This is the percentage of the test dataset your model correctly predicted.  In order to calculate this metric, you need the \"true\" labels (which are stored in the *output_test* dataframe)."
   ]
  },
  {
   "cell_type": "code",
   "execution_count": 13,
   "metadata": {},
   "outputs": [
    {
     "name": "stdout",
     "output_type": "stream",
     "text": [
      "The accuracy for the Logistic Regression model is 80.4%.\n"
     ]
    }
   ],
   "source": [
    "#Import the accuracy score metric function from scikit-learn\n",
    "from sklearn.metrics import accuracy_score\n",
    "\n",
    "#Calculate the accuracy for the Logistic Regression model\n",
    "lr_accuracy = accuracy_score(output_test, lr_pred)\n",
    "\n",
    "print('The accuracy for the Logistic Regression model is {:.1%}.'.format(lr_accuracy))"
   ]
  },
  {
   "cell_type": "markdown",
   "metadata": {},
   "source": [
    "Not bad!  This means your Logisitic Regression model is right 80.4% of the time on new data not used to train the model.\n",
    "\n",
    "Now you should calculate the accuracy scores for the decision tree and KNN models.  Which model has the highest accuracy score?"
   ]
  },
  {
   "cell_type": "code",
   "execution_count": 14,
   "metadata": {},
   "outputs": [
    {
     "name": "stdout",
     "output_type": "stream",
     "text": [
      "The accuracy for the Decision Tree model is 79.3%.\n",
      "The accuracy for the K-Nearest Neighbors model is 78.2%.\n"
     ]
    }
   ],
   "source": [
    "#Calculate the accuracy for the Decision Tree model\n",
    "tree_accuracy = accuracy_score(output_test, tree_pred)\n",
    "\n",
    "#Calculate the accuracy for the Decision Tree model\n",
    "knn_accuracy = accuracy_score(output_test, knn_pred)\n",
    "\n",
    "print('The accuracy for the Decision Tree model is {:.1%}.'.format(tree_accuracy))\n",
    "print('The accuracy for the K-Nearest Neighbors model is {:.1%}.'.format(knn_accuracy))"
   ]
  },
  {
   "cell_type": "markdown",
   "metadata": {},
   "source": [
    "### Confusion Matrix\n",
    "A confusion matrix compares the number of true positive and true negative values to false positive and false negative values.\n",
    "\n",
    "The confusion matrix is laid out as follows:   \n",
    "\n",
    "|  \\\\ | 0 | 1 |\n",
    "| - | - | - |\n",
    "| 0 | TN | FP |\n",
    "| 1 | FN | TP |\n",
    "\n",
    "The values along the top of the table are the predictions (0 for false or died and 1 for true or survived).  \n",
    "\n",
    "The values along the side of the table are the actual values for the passengers in the test data set.\n",
    "\n",
    "Values on the diagonals of the confusion matrix are correct predictions.  Values on the off-diagonal are incorrect predictions.\n",
    "\n",
    "Each cell is populated as follows:\n",
    " * True Negative (TN): The number of correct negative predictions (predicted value = actual value = 0)\n",
    " * False Negative (FN): The number of incorrect negative predictions (predicted value = 0; actual value = 1)\n",
    " * False Positive (FP): The number of incorrect positive predictions (predicted value = 1; actual value = 0)\n",
    " * True Positive (TP): The number of correct positive predictions (predicted value = actual value = 1)\n",
    " \n",
    "The sum of all values in the confusion matrix is the total number of rows in the prediction data set (179 rows for your test data set).\n",
    "\n",
    "The confusion matrix can also be used to calculate other evaluation metrics.  For example, the accuracy score can be calculated as follows:  \n",
    "<br><center>\n",
    "$\\text{Accuracy} = \\frac{TP + TN}{TP + TN + FP + FN}$\n",
    "</center>"
   ]
  },
  {
   "cell_type": "code",
   "execution_count": 15,
   "metadata": {},
   "outputs": [
    {
     "name": "stdout",
     "output_type": "stream",
     "text": [
      "Logistic Regression Test Confusion Matrix\n"
     ]
    },
    {
     "data": {
      "text/html": [
       "<div>\n",
       "<style scoped>\n",
       "    .dataframe tbody tr th:only-of-type {\n",
       "        vertical-align: middle;\n",
       "    }\n",
       "\n",
       "    .dataframe tbody tr th {\n",
       "        vertical-align: top;\n",
       "    }\n",
       "\n",
       "    .dataframe thead th {\n",
       "        text-align: right;\n",
       "    }\n",
       "</style>\n",
       "<table border=\"1\" class=\"dataframe\">\n",
       "  <thead>\n",
       "    <tr style=\"text-align: right;\">\n",
       "      <th></th>\n",
       "      <th>0</th>\n",
       "      <th>1</th>\n",
       "    </tr>\n",
       "  </thead>\n",
       "  <tbody>\n",
       "    <tr>\n",
       "      <th>0</th>\n",
       "      <td>93</td>\n",
       "      <td>21</td>\n",
       "    </tr>\n",
       "    <tr>\n",
       "      <th>1</th>\n",
       "      <td>14</td>\n",
       "      <td>51</td>\n",
       "    </tr>\n",
       "  </tbody>\n",
       "</table>\n",
       "</div>"
      ],
      "text/plain": [
       "    0   1\n",
       "0  93  21\n",
       "1  14  51"
      ]
     },
     "execution_count": 15,
     "metadata": {},
     "output_type": "execute_result"
    }
   ],
   "source": [
    "#Import the confusion matrix metric function from scikit-learn\n",
    "from sklearn.metrics import confusion_matrix\n",
    "\n",
    "#Calculate the confusion matrix for the Logistic Regression model\n",
    "lr_cm = confusion_matrix(output_test, lr_pred)\n",
    "\n",
    "print('Logistic Regression Test Confusion Matrix')\n",
    "#Put the confusion matrix into a data frame (to make it pretty to print)\n",
    "pd.DataFrame(lr_cm)"
   ]
  },
  {
   "cell_type": "markdown",
   "metadata": {},
   "source": [
    "Now it is your turn to calculate the confusion matrices for the Decision Tree and KNN models."
   ]
  },
  {
   "cell_type": "code",
   "execution_count": 16,
   "metadata": {},
   "outputs": [
    {
     "name": "stdout",
     "output_type": "stream",
     "text": [
      "Decision Tree Test Confusion Matrix\n",
      "K-Nearest Neighbors Test Confusion Matrix\n"
     ]
    },
    {
     "data": {
      "text/html": [
       "<div>\n",
       "<style scoped>\n",
       "    .dataframe tbody tr th:only-of-type {\n",
       "        vertical-align: middle;\n",
       "    }\n",
       "\n",
       "    .dataframe tbody tr th {\n",
       "        vertical-align: top;\n",
       "    }\n",
       "\n",
       "    .dataframe thead th {\n",
       "        text-align: right;\n",
       "    }\n",
       "</style>\n",
       "<table border=\"1\" class=\"dataframe\">\n",
       "  <thead>\n",
       "    <tr style=\"text-align: right;\">\n",
       "      <th></th>\n",
       "      <th>0</th>\n",
       "      <th>1</th>\n",
       "    </tr>\n",
       "  </thead>\n",
       "  <tbody>\n",
       "    <tr>\n",
       "      <th>0</th>\n",
       "      <td>100</td>\n",
       "      <td>14</td>\n",
       "    </tr>\n",
       "    <tr>\n",
       "      <th>1</th>\n",
       "      <td>25</td>\n",
       "      <td>40</td>\n",
       "    </tr>\n",
       "  </tbody>\n",
       "</table>\n",
       "</div>"
      ],
      "text/plain": [
       "     0   1\n",
       "0  100  14\n",
       "1   25  40"
      ]
     },
     "execution_count": 16,
     "metadata": {},
     "output_type": "execute_result"
    }
   ],
   "source": [
    "#Calculate the confusion matrix for the Decision Tree model\n",
    "tree_cm = confusion_matrix(output_test, tree_pred)\n",
    "\n",
    "print('Decision Tree Test Confusion Matrix')\n",
    "#Put the confusion matrix into a data frame (to make it pretty to print)\n",
    "pd.DataFrame(tree_cm)\n",
    "\n",
    "#Calculate the confusion matrix for the KNN model\n",
    "knn_cm = confusion_matrix(output_test, knn_pred)\n",
    "\n",
    "print('K-Nearest Neighbors Test Confusion Matrix')\n",
    "#Put the confusion matrix into a data frame (to make it pretty to print)\n",
    "pd.DataFrame(knn_cm)"
   ]
  },
  {
   "cell_type": "markdown",
   "metadata": {},
   "source": [
    "### ROC Curve\n",
    "The Receiver Operating Characteristic or [ROC Curve](https://en.wikipedia.org/wiki/Receiver_operating_characteristic) is a measure of the true positive rate versus the false positive rate for a binary classification model.  \n",
    "<br>\n",
    "<center>\n",
    "$\\text{True Positive Rate} = \\frac{TP}{TP + FN}$  \n",
    "</center>\n",
    "<br>\n",
    "<center>\n",
    "$\\text{False Positive Rate} = \\frac{FP}{FP + TN}$\n",
    "</center>\n",
    "\n",
    "The true positive rate is also known as the *sensitivity* and the false positivity rate is also known as 1 - *specificity*.  \n",
    "A related metric is the AUC or area under the ROC curve.  This is conveniently calculated for you as part of scikit-learn's ROC curve function.  The AUC ranges from 0.5 (random guessing) to 1.0 (perfect prediction).\n",
    "\n",
    "The closer the ROC curve is to the upper left corner of the graph, the better your model predictions are."
   ]
  },
  {
   "cell_type": "code",
   "execution_count": 17,
   "metadata": {},
   "outputs": [
    {
     "data": {
      "image/png": "[encoded data removed]",
      "text/plain": [
       "<Figure size 432x288 with 1 Axes>"
      ]
     },
     "metadata": {
      "needs_background": "light"
     },
     "output_type": "display_data"
    }
   ],
   "source": [
    "#Import the ROC curve function from scikit-learn\n",
    "from sklearn.metrics import plot_roc_curve\n",
    "\n",
    "#Plot the ROC curve using matplotlib\n",
    "import matplotlib.pyplot as plt\n",
    "plot_roc_curve(lr, features_test, output_test)\n",
    "plt.title('Test ROC Curve for Logistic Regression')\n",
    "plt.show()"
   ]
  },
  {
   "cell_type": "markdown",
   "metadata": {},
   "source": [
    "Using scikit-learn and matplotlib, plot the ROC curves for the test data predictions from the Decision Tree and KNN models.  Which model has the highest AUC value?"
   ]
  },
  {
   "cell_type": "code",
   "execution_count": 20,
   "metadata": {},
   "outputs": [
    {
     "data": {
      "image/png": "[encoded data removed]",
      "text/plain": [
       "<Figure size 432x288 with 1 Axes>"
      ]
     },
     "metadata": {
      "needs_background": "light"
     },
     "output_type": "display_data"
    }
   ],
   "source": [
    "#Plot the ROC curve using matplotlib for the Decision Tree model\n",
    "plot_roc_curve(tree, features_test, tree_pred)\n",
    "plt.title('Test ROC Curve for Decision Tree')\n",
    "plt.show()"
   ]
  },
  {
   "cell_type": "code",
   "execution_count": 21,
   "metadata": {},
   "outputs": [
    {
     "data": {
      "image/png": "[encoded data removed]",
      "text/plain": [
       "<Figure size 432x288 with 1 Axes>"
      ]
     },
     "metadata": {
      "needs_background": "light"
     },
     "output_type": "display_data"
    }
   ],
   "source": [
    "#Plot the ROC curve using matplotlib for the KNN model\n",
    "plot_roc_curve(knn, features_test, knn_pred)\n",
    "plt.title('Test ROC Curve for KNN')\n",
    "plt.show()"
   ]
  },
  {
   "cell_type": "markdown",
   "metadata": {},
   "source": [
    "## Further Practice\n",
    "Each of the models built above have [hyperparameters](https://en.wikipedia.org/wiki/Hyperparameter_(machine_learning)) or variables that can be adjusted to change the way the model makes its predictions.  Your models used the default settings within scikit-learn.\n",
    "\n",
    "You can now go back and adjust these hyperparameters to see how they affect the evaulation of your model (see the [scikit-learn](https://scikit-learn.org/stable/supervised_learning.html) documentation for more details)."
   ]
  },
  {
   "cell_type": "markdown",
   "metadata": {},
   "source": [
    "## Further Reading\n",
    "There are many other methodologies for building binary classification models.  Below are some links to further explore these types of models:\n",
    "* https://medium.com/fuzz/machine-learning-classification-models-3040f71e2529\n",
    "* https://towardsdatascience.com/solving-a-simple-classification-problem-with-python-fruits-lovers-edition-d20ab6b071d2\n",
    "\n",
    "There are also other metrics you can use to evaluate classification models.  Below are additional links to other evaluation metrics.  The exact evaluation metric to use depends on your priorities.\n",
    "* [Precision and Recall](https://en.wikipedia.org/wiki/Precision_and_recall)\n",
    "* [Sensitivity and Specificity](https://en.wikipedia.org/wiki/Sensitivity_and_specificity)\n",
    "* [Lift Curves](https://towardsdatascience.com/the-lift-curve-unveiled-998851147871)"
   ]
  }
 ],
 "metadata": {
  "kernelspec": {
   "display_name": "conda_python3",
   "language": "python",
   "name": "conda_python3"
  },
  "language_info": {
   "codemirror_mode": {
    "name": "ipython",
    "version": 3
   },
   "file_extension": ".py",
   "mimetype": "text/x-python",
   "name": "python",
   "nbconvert_exporter": "python",
   "pygments_lexer": "ipython3",
   "version": "3.6.13"
  }
 },
 "nbformat": 4,
 "nbformat_minor": 4
}
